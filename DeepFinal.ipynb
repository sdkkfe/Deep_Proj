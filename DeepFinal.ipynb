{
  "nbformat": 4,
  "nbformat_minor": 0,
  "metadata": {
    "colab": {
      "name": "DeepFinal.ipynb",
      "provenance": [],
      "collapsed_sections": [],
      "machine_shape": "hm"
    },
    "kernelspec": {
      "display_name": "Python 3",
      "language": "python",
      "name": "python3"
    },
    "language_info": {
      "codemirror_mode": {
        "name": "ipython",
        "version": 3
      },
      "file_extension": ".py",
      "mimetype": "text/x-python",
      "name": "python",
      "nbconvert_exporter": "python",
      "pygments_lexer": "ipython3",
      "version": "3.7.1"
    }
  },
  "cells": [
    {
      "cell_type": "code",
      "metadata": {
        "colab_type": "code",
        "id": "J_S0qeAd2ait",
        "colab": {}
      },
      "source": [
        "import numpy as np\n",
        "import pandas as pd\n",
        "from matplotlib import pyplot as plt\n",
        "%matplotlib inline\n",
        "import os,random, math\n",
        "import gc"
      ],
      "execution_count": 0,
      "outputs": []
    },
    {
      "cell_type": "code",
      "metadata": {
        "colab_type": "code",
        "id": "zaY2m-SJ2cJN",
        "outputId": "4fe8a948-d48a-44f0-9c9d-162975697b4e",
        "colab": {
          "base_uri": "https://localhost:8080/",
          "height": 323
        }
      },
      "source": [
        "!pip3 install --upgrade kaggle\n",
        "import os\n",
        "os.environ['KAGGLE_USERNAME'] = \"tedghmn\" # username from the json file\n",
        "os.environ['KAGGLE_KEY'] = \"9c7742978732a1456c48d4405a4bd31e\"\n",
        "\n",
        "\n",
        "!kaggle competitions download -c ashrae-energy-prediction"
      ],
      "execution_count": 0,
      "outputs": [
        {
          "output_type": "stream",
          "text": [
            "Requirement already up-to-date: kaggle in /usr/local/lib/python3.6/dist-packages (1.5.6)\n",
            "Requirement already satisfied, skipping upgrade: urllib3<1.25,>=1.21.1 in /usr/local/lib/python3.6/dist-packages (from kaggle) (1.24.3)\n",
            "Requirement already satisfied, skipping upgrade: certifi in /usr/local/lib/python3.6/dist-packages (from kaggle) (2019.11.28)\n",
            "Requirement already satisfied, skipping upgrade: tqdm in /usr/local/lib/python3.6/dist-packages (from kaggle) (4.28.1)\n",
            "Requirement already satisfied, skipping upgrade: six>=1.10 in /usr/local/lib/python3.6/dist-packages (from kaggle) (1.12.0)\n",
            "Requirement already satisfied, skipping upgrade: python-dateutil in /usr/local/lib/python3.6/dist-packages (from kaggle) (2.6.1)\n",
            "Requirement already satisfied, skipping upgrade: python-slugify in /usr/local/lib/python3.6/dist-packages (from kaggle) (4.0.0)\n",
            "Requirement already satisfied, skipping upgrade: requests in /usr/local/lib/python3.6/dist-packages (from kaggle) (2.21.0)\n",
            "Requirement already satisfied, skipping upgrade: text-unidecode>=1.3 in /usr/local/lib/python3.6/dist-packages (from python-slugify->kaggle) (1.3)\n",
            "Requirement already satisfied, skipping upgrade: chardet<3.1.0,>=3.0.2 in /usr/local/lib/python3.6/dist-packages (from requests->kaggle) (3.0.4)\n",
            "Requirement already satisfied, skipping upgrade: idna<2.9,>=2.5 in /usr/local/lib/python3.6/dist-packages (from requests->kaggle) (2.8)\n",
            "Warning: Looks like you're using an outdated API Version, please consider updating (server 1.5.6 / client 1.5.4)\n",
            "weather_test.csv.zip: Skipping, found more recently modified local copy (use --force to force download)\n",
            "train.csv.zip: Skipping, found more recently modified local copy (use --force to force download)\n",
            "building_metadata.csv: Skipping, found more recently modified local copy (use --force to force download)\n",
            "sample_submission.csv.zip: Skipping, found more recently modified local copy (use --force to force download)\n",
            "test.csv.zip: Skipping, found more recently modified local copy (use --force to force download)\n",
            "weather_train.csv.zip: Skipping, found more recently modified local copy (use --force to force download)\n"
          ],
          "name": "stdout"
        }
      ]
    },
    {
      "cell_type": "code",
      "metadata": {
        "colab_type": "code",
        "id": "ecAWG-Hy2cLn",
        "colab": {}
      },
      "source": [
        "#!unzip \\*.zip"
      ],
      "execution_count": 0,
      "outputs": []
    },
    {
      "cell_type": "markdown",
      "metadata": {
        "id": "zwzil2DTig4c",
        "colab_type": "text"
      },
      "source": [
        "# **Importing data and Feature engineering**"
      ]
    },
    {
      "cell_type": "markdown",
      "metadata": {
        "id": "wFP0wP2eh4vE",
        "colab_type": "text"
      },
      "source": [
        "## **Train.csv**"
      ]
    },
    {
      "cell_type": "code",
      "metadata": {
        "colab_type": "code",
        "id": "iFttMddG2cOR",
        "outputId": "4402f8bb-ee05-4270-a140-ccc35d4df14e",
        "colab": {
          "base_uri": "https://localhost:8080/",
          "height": 204
        }
      },
      "source": [
        "import pandas as pd\n",
        "train_df = pd.read_csv('train.csv.zip')\n",
        "train_df.head()"
      ],
      "execution_count": 0,
      "outputs": [
        {
          "output_type": "execute_result",
          "data": {
            "text/html": [
              "<div>\n",
              "<style scoped>\n",
              "    .dataframe tbody tr th:only-of-type {\n",
              "        vertical-align: middle;\n",
              "    }\n",
              "\n",
              "    .dataframe tbody tr th {\n",
              "        vertical-align: top;\n",
              "    }\n",
              "\n",
              "    .dataframe thead th {\n",
              "        text-align: right;\n",
              "    }\n",
              "</style>\n",
              "<table border=\"1\" class=\"dataframe\">\n",
              "  <thead>\n",
              "    <tr style=\"text-align: right;\">\n",
              "      <th></th>\n",
              "      <th>building_id</th>\n",
              "      <th>meter</th>\n",
              "      <th>timestamp</th>\n",
              "      <th>meter_reading</th>\n",
              "    </tr>\n",
              "  </thead>\n",
              "  <tbody>\n",
              "    <tr>\n",
              "      <th>0</th>\n",
              "      <td>0</td>\n",
              "      <td>0</td>\n",
              "      <td>2016-01-01 00:00:00</td>\n",
              "      <td>0.0</td>\n",
              "    </tr>\n",
              "    <tr>\n",
              "      <th>1</th>\n",
              "      <td>1</td>\n",
              "      <td>0</td>\n",
              "      <td>2016-01-01 00:00:00</td>\n",
              "      <td>0.0</td>\n",
              "    </tr>\n",
              "    <tr>\n",
              "      <th>2</th>\n",
              "      <td>2</td>\n",
              "      <td>0</td>\n",
              "      <td>2016-01-01 00:00:00</td>\n",
              "      <td>0.0</td>\n",
              "    </tr>\n",
              "    <tr>\n",
              "      <th>3</th>\n",
              "      <td>3</td>\n",
              "      <td>0</td>\n",
              "      <td>2016-01-01 00:00:00</td>\n",
              "      <td>0.0</td>\n",
              "    </tr>\n",
              "    <tr>\n",
              "      <th>4</th>\n",
              "      <td>4</td>\n",
              "      <td>0</td>\n",
              "      <td>2016-01-01 00:00:00</td>\n",
              "      <td>0.0</td>\n",
              "    </tr>\n",
              "  </tbody>\n",
              "</table>\n",
              "</div>"
            ],
            "text/plain": [
              "   building_id  meter            timestamp  meter_reading\n",
              "0            0      0  2016-01-01 00:00:00            0.0\n",
              "1            1      0  2016-01-01 00:00:00            0.0\n",
              "2            2      0  2016-01-01 00:00:00            0.0\n",
              "3            3      0  2016-01-01 00:00:00            0.0\n",
              "4            4      0  2016-01-01 00:00:00            0.0"
            ]
          },
          "metadata": {
            "tags": []
          },
          "execution_count": 7
        }
      ]
    },
    {
      "cell_type": "code",
      "metadata": {
        "colab_type": "code",
        "id": "qKhHItpg2cT5",
        "outputId": "e013cde8-66c5-4db9-fc04-fbfcffe84858",
        "colab": {
          "base_uri": "https://localhost:8080/",
          "height": 34
        }
      },
      "source": [
        "train_df.shape"
      ],
      "execution_count": 0,
      "outputs": [
        {
          "output_type": "execute_result",
          "data": {
            "text/plain": [
              "(20216100, 4)"
            ]
          },
          "metadata": {
            "tags": []
          },
          "execution_count": 8
        }
      ]
    },
    {
      "cell_type": "markdown",
      "metadata": {
        "id": "HKqUZpAziBiS",
        "colab_type": "text"
      },
      "source": [
        "## **building_metadata.csv**"
      ]
    },
    {
      "cell_type": "code",
      "metadata": {
        "colab_type": "code",
        "id": "0ulOUfPy-cC-",
        "outputId": "918339a9-bf5e-4da5-ffa9-6c652cf28a40",
        "colab": {
          "base_uri": "https://localhost:8080/",
          "height": 204
        }
      },
      "source": [
        "building_meta_df = pd.read_csv('building_metadata.csv')\n",
        "building_meta_df.head()"
      ],
      "execution_count": 0,
      "outputs": [
        {
          "output_type": "execute_result",
          "data": {
            "text/html": [
              "<div>\n",
              "<style scoped>\n",
              "    .dataframe tbody tr th:only-of-type {\n",
              "        vertical-align: middle;\n",
              "    }\n",
              "\n",
              "    .dataframe tbody tr th {\n",
              "        vertical-align: top;\n",
              "    }\n",
              "\n",
              "    .dataframe thead th {\n",
              "        text-align: right;\n",
              "    }\n",
              "</style>\n",
              "<table border=\"1\" class=\"dataframe\">\n",
              "  <thead>\n",
              "    <tr style=\"text-align: right;\">\n",
              "      <th></th>\n",
              "      <th>site_id</th>\n",
              "      <th>building_id</th>\n",
              "      <th>primary_use</th>\n",
              "      <th>square_feet</th>\n",
              "      <th>year_built</th>\n",
              "      <th>floor_count</th>\n",
              "    </tr>\n",
              "  </thead>\n",
              "  <tbody>\n",
              "    <tr>\n",
              "      <th>0</th>\n",
              "      <td>0</td>\n",
              "      <td>0</td>\n",
              "      <td>Education</td>\n",
              "      <td>7432</td>\n",
              "      <td>2008.0</td>\n",
              "      <td>NaN</td>\n",
              "    </tr>\n",
              "    <tr>\n",
              "      <th>1</th>\n",
              "      <td>0</td>\n",
              "      <td>1</td>\n",
              "      <td>Education</td>\n",
              "      <td>2720</td>\n",
              "      <td>2004.0</td>\n",
              "      <td>NaN</td>\n",
              "    </tr>\n",
              "    <tr>\n",
              "      <th>2</th>\n",
              "      <td>0</td>\n",
              "      <td>2</td>\n",
              "      <td>Education</td>\n",
              "      <td>5376</td>\n",
              "      <td>1991.0</td>\n",
              "      <td>NaN</td>\n",
              "    </tr>\n",
              "    <tr>\n",
              "      <th>3</th>\n",
              "      <td>0</td>\n",
              "      <td>3</td>\n",
              "      <td>Education</td>\n",
              "      <td>23685</td>\n",
              "      <td>2002.0</td>\n",
              "      <td>NaN</td>\n",
              "    </tr>\n",
              "    <tr>\n",
              "      <th>4</th>\n",
              "      <td>0</td>\n",
              "      <td>4</td>\n",
              "      <td>Education</td>\n",
              "      <td>116607</td>\n",
              "      <td>1975.0</td>\n",
              "      <td>NaN</td>\n",
              "    </tr>\n",
              "  </tbody>\n",
              "</table>\n",
              "</div>"
            ],
            "text/plain": [
              "   site_id  building_id primary_use  square_feet  year_built  floor_count\n",
              "0        0            0   Education         7432      2008.0          NaN\n",
              "1        0            1   Education         2720      2004.0          NaN\n",
              "2        0            2   Education         5376      1991.0          NaN\n",
              "3        0            3   Education        23685      2002.0          NaN\n",
              "4        0            4   Education       116607      1975.0          NaN"
            ]
          },
          "metadata": {
            "tags": []
          },
          "execution_count": 9
        }
      ]
    },
    {
      "cell_type": "code",
      "metadata": {
        "colab_type": "code",
        "id": "2gisNwIG-cH7",
        "outputId": "60b1d71f-9fbb-4500-8872-5c1ce25f9e86",
        "colab": {
          "base_uri": "https://localhost:8080/",
          "height": 34
        }
      },
      "source": [
        "building_meta_df.site_id.nunique()"
      ],
      "execution_count": 0,
      "outputs": [
        {
          "output_type": "execute_result",
          "data": {
            "text/plain": [
              "16"
            ]
          },
          "metadata": {
            "tags": []
          },
          "execution_count": 10
        }
      ]
    },
    {
      "cell_type": "markdown",
      "metadata": {
        "id": "N-U48WBUiNhW",
        "colab_type": "text"
      },
      "source": [
        "**Drop columns year_build and floor_count**\n",
        "\n",
        "\n"
      ]
    },
    {
      "cell_type": "code",
      "metadata": {
        "colab_type": "code",
        "id": "mEtiQ079-cK4",
        "colab": {}
      },
      "source": [
        "building_meta_df = building_meta_df.drop(columns=['year_built','floor_count'], axis=1)"
      ],
      "execution_count": 0,
      "outputs": []
    },
    {
      "cell_type": "code",
      "metadata": {
        "colab_type": "code",
        "id": "jW4jK8gnC9DN",
        "outputId": "4ca4b89d-e1dc-4042-d6b9-5708319f5e5f",
        "colab": {
          "base_uri": "https://localhost:8080/",
          "height": 204
        }
      },
      "source": [
        "building_meta_df.head()"
      ],
      "execution_count": 0,
      "outputs": [
        {
          "output_type": "execute_result",
          "data": {
            "text/html": [
              "<div>\n",
              "<style scoped>\n",
              "    .dataframe tbody tr th:only-of-type {\n",
              "        vertical-align: middle;\n",
              "    }\n",
              "\n",
              "    .dataframe tbody tr th {\n",
              "        vertical-align: top;\n",
              "    }\n",
              "\n",
              "    .dataframe thead th {\n",
              "        text-align: right;\n",
              "    }\n",
              "</style>\n",
              "<table border=\"1\" class=\"dataframe\">\n",
              "  <thead>\n",
              "    <tr style=\"text-align: right;\">\n",
              "      <th></th>\n",
              "      <th>site_id</th>\n",
              "      <th>building_id</th>\n",
              "      <th>primary_use</th>\n",
              "      <th>square_feet</th>\n",
              "    </tr>\n",
              "  </thead>\n",
              "  <tbody>\n",
              "    <tr>\n",
              "      <th>0</th>\n",
              "      <td>0</td>\n",
              "      <td>0</td>\n",
              "      <td>Education</td>\n",
              "      <td>7432</td>\n",
              "    </tr>\n",
              "    <tr>\n",
              "      <th>1</th>\n",
              "      <td>0</td>\n",
              "      <td>1</td>\n",
              "      <td>Education</td>\n",
              "      <td>2720</td>\n",
              "    </tr>\n",
              "    <tr>\n",
              "      <th>2</th>\n",
              "      <td>0</td>\n",
              "      <td>2</td>\n",
              "      <td>Education</td>\n",
              "      <td>5376</td>\n",
              "    </tr>\n",
              "    <tr>\n",
              "      <th>3</th>\n",
              "      <td>0</td>\n",
              "      <td>3</td>\n",
              "      <td>Education</td>\n",
              "      <td>23685</td>\n",
              "    </tr>\n",
              "    <tr>\n",
              "      <th>4</th>\n",
              "      <td>0</td>\n",
              "      <td>4</td>\n",
              "      <td>Education</td>\n",
              "      <td>116607</td>\n",
              "    </tr>\n",
              "  </tbody>\n",
              "</table>\n",
              "</div>"
            ],
            "text/plain": [
              "   site_id  building_id primary_use  square_feet\n",
              "0        0            0   Education         7432\n",
              "1        0            1   Education         2720\n",
              "2        0            2   Education         5376\n",
              "3        0            3   Education        23685\n",
              "4        0            4   Education       116607"
            ]
          },
          "metadata": {
            "tags": []
          },
          "execution_count": 12
        }
      ]
    },
    {
      "cell_type": "code",
      "metadata": {
        "colab_type": "code",
        "id": "iIkyQvswC8_8",
        "outputId": "d1b07ef4-b144-4e8b-b4e8-53c4523d44ba",
        "colab": {
          "base_uri": "https://localhost:8080/",
          "height": 34
        }
      },
      "source": [
        "print('There are', building_meta_df.primary_use.nunique(),'values for primary_use ' )"
      ],
      "execution_count": 0,
      "outputs": [
        {
          "output_type": "stream",
          "text": [
            "There are 16 values for primary_use \n"
          ],
          "name": "stdout"
        }
      ]
    },
    {
      "cell_type": "code",
      "metadata": {
        "colab_type": "code",
        "id": "XDxeVliL2cWP",
        "outputId": "08112975-f82d-45ed-a180-cffd9b73b6c3",
        "colab": {
          "base_uri": "https://localhost:8080/",
          "height": 306
        }
      },
      "source": [
        " building_meta_df.primary_use.value_counts()"
      ],
      "execution_count": 0,
      "outputs": [
        {
          "output_type": "execute_result",
          "data": {
            "text/plain": [
              "Education                        549\n",
              "Office                           279\n",
              "Entertainment/public assembly    184\n",
              "Public services                  156\n",
              "Lodging/residential              147\n",
              "Other                             25\n",
              "Healthcare                        23\n",
              "Parking                           22\n",
              "Warehouse/storage                 13\n",
              "Manufacturing/industrial          12\n",
              "Retail                            11\n",
              "Services                          10\n",
              "Technology/science                 6\n",
              "Food sales and service             5\n",
              "Utility                            4\n",
              "Religious worship                  3\n",
              "Name: primary_use, dtype: int64"
            ]
          },
          "metadata": {
            "tags": []
          },
          "execution_count": 14
        }
      ]
    },
    {
      "cell_type": "code",
      "metadata": {
        "colab_type": "code",
        "id": "7413QYkQ2cRt",
        "colab": {}
      },
      "source": [
        "#replace categories with low values with 'others'\n",
        "\n",
        "t=[\"Religious worship\",\"Utility\",\"Food sales and service\",\"Services\",\"Retail\",\"Manufacturing/industrial\",\"Warehouse/storage\",\"Parking\",\"Healthcare\", \"Technology/science\",\"Other\"]"
      ],
      "execution_count": 0,
      "outputs": []
    },
    {
      "cell_type": "code",
      "metadata": {
        "colab_type": "code",
        "id": "DDNxurVH2nB_",
        "colab": {}
      },
      "source": [
        "building_meta_df.loc[building_meta_df.primary_use.isin(t),'primary_use'] = 'others'"
      ],
      "execution_count": 0,
      "outputs": []
    },
    {
      "cell_type": "code",
      "metadata": {
        "colab_type": "code",
        "id": "JbKsgulF2nEx",
        "colab": {}
      },
      "source": [
        "#primary_use: categorical into numerical values\n",
        "\n",
        "building_meta_df[\"primary_use\"] = building_meta_df[\"primary_use\"].astype('category')\n",
        "building_meta_df[\"primary_use\"] = building_meta_df[\"primary_use\"].cat.codes"
      ],
      "execution_count": 0,
      "outputs": []
    },
    {
      "cell_type": "code",
      "metadata": {
        "colab_type": "code",
        "id": "BrAanxsT2nOL",
        "colab": {}
      },
      "source": [
        "building_meta_df['primary_use'] = building_meta_df.primary_use.astype(\"int64\")"
      ],
      "execution_count": 0,
      "outputs": []
    },
    {
      "cell_type": "code",
      "metadata": {
        "colab_type": "code",
        "id": "_s7SQpBT2nQs",
        "outputId": "45583368-a133-4d52-f249-6c39db75b1f3",
        "colab": {
          "base_uri": "https://localhost:8080/",
          "height": 34
        }
      },
      "source": [
        "building_meta_df.columns"
      ],
      "execution_count": 0,
      "outputs": [
        {
          "output_type": "execute_result",
          "data": {
            "text/plain": [
              "Index(['site_id', 'building_id', 'primary_use', 'square_feet'], dtype='object')"
            ]
          },
          "metadata": {
            "tags": []
          },
          "execution_count": 19
        }
      ]
    },
    {
      "cell_type": "code",
      "metadata": {
        "colab_type": "code",
        "id": "cZF3baSh2nKE",
        "outputId": "09f60fa3-1f41-4176-c1a2-b91fa69573d7",
        "colab": {
          "base_uri": "https://localhost:8080/",
          "height": 204
        }
      },
      "source": [
        "building_meta_df.head()"
      ],
      "execution_count": 0,
      "outputs": [
        {
          "output_type": "execute_result",
          "data": {
            "text/html": [
              "<div>\n",
              "<style scoped>\n",
              "    .dataframe tbody tr th:only-of-type {\n",
              "        vertical-align: middle;\n",
              "    }\n",
              "\n",
              "    .dataframe tbody tr th {\n",
              "        vertical-align: top;\n",
              "    }\n",
              "\n",
              "    .dataframe thead th {\n",
              "        text-align: right;\n",
              "    }\n",
              "</style>\n",
              "<table border=\"1\" class=\"dataframe\">\n",
              "  <thead>\n",
              "    <tr style=\"text-align: right;\">\n",
              "      <th></th>\n",
              "      <th>site_id</th>\n",
              "      <th>building_id</th>\n",
              "      <th>primary_use</th>\n",
              "      <th>square_feet</th>\n",
              "    </tr>\n",
              "  </thead>\n",
              "  <tbody>\n",
              "    <tr>\n",
              "      <th>0</th>\n",
              "      <td>0</td>\n",
              "      <td>0</td>\n",
              "      <td>0</td>\n",
              "      <td>7432</td>\n",
              "    </tr>\n",
              "    <tr>\n",
              "      <th>1</th>\n",
              "      <td>0</td>\n",
              "      <td>1</td>\n",
              "      <td>0</td>\n",
              "      <td>2720</td>\n",
              "    </tr>\n",
              "    <tr>\n",
              "      <th>2</th>\n",
              "      <td>0</td>\n",
              "      <td>2</td>\n",
              "      <td>0</td>\n",
              "      <td>5376</td>\n",
              "    </tr>\n",
              "    <tr>\n",
              "      <th>3</th>\n",
              "      <td>0</td>\n",
              "      <td>3</td>\n",
              "      <td>0</td>\n",
              "      <td>23685</td>\n",
              "    </tr>\n",
              "    <tr>\n",
              "      <th>4</th>\n",
              "      <td>0</td>\n",
              "      <td>4</td>\n",
              "      <td>0</td>\n",
              "      <td>116607</td>\n",
              "    </tr>\n",
              "  </tbody>\n",
              "</table>\n",
              "</div>"
            ],
            "text/plain": [
              "   site_id  building_id  primary_use  square_feet\n",
              "0        0            0            0         7432\n",
              "1        0            1            0         2720\n",
              "2        0            2            0         5376\n",
              "3        0            3            0        23685\n",
              "4        0            4            0       116607"
            ]
          },
          "metadata": {
            "tags": []
          },
          "execution_count": 20
        }
      ]
    },
    {
      "cell_type": "code",
      "metadata": {
        "colab_type": "code",
        "id": "e3MXRYA12nIQ",
        "outputId": "0b9d0392-611f-47e5-c3a3-593b35162e5c",
        "colab": {
          "base_uri": "https://localhost:8080/",
          "height": 204
        }
      },
      "source": [
        "building_meta_df.tail()"
      ],
      "execution_count": 0,
      "outputs": [
        {
          "output_type": "execute_result",
          "data": {
            "text/html": [
              "<div>\n",
              "<style scoped>\n",
              "    .dataframe tbody tr th:only-of-type {\n",
              "        vertical-align: middle;\n",
              "    }\n",
              "\n",
              "    .dataframe tbody tr th {\n",
              "        vertical-align: top;\n",
              "    }\n",
              "\n",
              "    .dataframe thead th {\n",
              "        text-align: right;\n",
              "    }\n",
              "</style>\n",
              "<table border=\"1\" class=\"dataframe\">\n",
              "  <thead>\n",
              "    <tr style=\"text-align: right;\">\n",
              "      <th></th>\n",
              "      <th>site_id</th>\n",
              "      <th>building_id</th>\n",
              "      <th>primary_use</th>\n",
              "      <th>square_feet</th>\n",
              "    </tr>\n",
              "  </thead>\n",
              "  <tbody>\n",
              "    <tr>\n",
              "      <th>1444</th>\n",
              "      <td>15</td>\n",
              "      <td>1444</td>\n",
              "      <td>1</td>\n",
              "      <td>19619</td>\n",
              "    </tr>\n",
              "    <tr>\n",
              "      <th>1445</th>\n",
              "      <td>15</td>\n",
              "      <td>1445</td>\n",
              "      <td>0</td>\n",
              "      <td>4298</td>\n",
              "    </tr>\n",
              "    <tr>\n",
              "      <th>1446</th>\n",
              "      <td>15</td>\n",
              "      <td>1446</td>\n",
              "      <td>1</td>\n",
              "      <td>11265</td>\n",
              "    </tr>\n",
              "    <tr>\n",
              "      <th>1447</th>\n",
              "      <td>15</td>\n",
              "      <td>1447</td>\n",
              "      <td>2</td>\n",
              "      <td>29775</td>\n",
              "    </tr>\n",
              "    <tr>\n",
              "      <th>1448</th>\n",
              "      <td>15</td>\n",
              "      <td>1448</td>\n",
              "      <td>3</td>\n",
              "      <td>92271</td>\n",
              "    </tr>\n",
              "  </tbody>\n",
              "</table>\n",
              "</div>"
            ],
            "text/plain": [
              "      site_id  building_id  primary_use  square_feet\n",
              "1444       15         1444            1        19619\n",
              "1445       15         1445            0         4298\n",
              "1446       15         1446            1        11265\n",
              "1447       15         1447            2        29775\n",
              "1448       15         1448            3        92271"
            ]
          },
          "metadata": {
            "tags": []
          },
          "execution_count": 21
        }
      ]
    },
    {
      "cell_type": "code",
      "metadata": {
        "colab_type": "code",
        "id": "mpREP6avEvlf",
        "outputId": "9d3f415a-9966-4ae8-863f-90b30dc3d36a",
        "colab": {
          "base_uri": "https://localhost:8080/",
          "height": 204
        }
      },
      "source": [
        "weather_train_df = pd.read_csv('weather_train.csv.zip')\n",
        "weather_train_df.head()"
      ],
      "execution_count": 0,
      "outputs": [
        {
          "output_type": "execute_result",
          "data": {
            "text/html": [
              "<div>\n",
              "<style scoped>\n",
              "    .dataframe tbody tr th:only-of-type {\n",
              "        vertical-align: middle;\n",
              "    }\n",
              "\n",
              "    .dataframe tbody tr th {\n",
              "        vertical-align: top;\n",
              "    }\n",
              "\n",
              "    .dataframe thead th {\n",
              "        text-align: right;\n",
              "    }\n",
              "</style>\n",
              "<table border=\"1\" class=\"dataframe\">\n",
              "  <thead>\n",
              "    <tr style=\"text-align: right;\">\n",
              "      <th></th>\n",
              "      <th>site_id</th>\n",
              "      <th>timestamp</th>\n",
              "      <th>air_temperature</th>\n",
              "      <th>cloud_coverage</th>\n",
              "      <th>dew_temperature</th>\n",
              "      <th>precip_depth_1_hr</th>\n",
              "      <th>sea_level_pressure</th>\n",
              "      <th>wind_direction</th>\n",
              "      <th>wind_speed</th>\n",
              "    </tr>\n",
              "  </thead>\n",
              "  <tbody>\n",
              "    <tr>\n",
              "      <th>0</th>\n",
              "      <td>0</td>\n",
              "      <td>2016-01-01 00:00:00</td>\n",
              "      <td>25.0</td>\n",
              "      <td>6.0</td>\n",
              "      <td>20.0</td>\n",
              "      <td>NaN</td>\n",
              "      <td>1019.7</td>\n",
              "      <td>0.0</td>\n",
              "      <td>0.0</td>\n",
              "    </tr>\n",
              "    <tr>\n",
              "      <th>1</th>\n",
              "      <td>0</td>\n",
              "      <td>2016-01-01 01:00:00</td>\n",
              "      <td>24.4</td>\n",
              "      <td>NaN</td>\n",
              "      <td>21.1</td>\n",
              "      <td>-1.0</td>\n",
              "      <td>1020.2</td>\n",
              "      <td>70.0</td>\n",
              "      <td>1.5</td>\n",
              "    </tr>\n",
              "    <tr>\n",
              "      <th>2</th>\n",
              "      <td>0</td>\n",
              "      <td>2016-01-01 02:00:00</td>\n",
              "      <td>22.8</td>\n",
              "      <td>2.0</td>\n",
              "      <td>21.1</td>\n",
              "      <td>0.0</td>\n",
              "      <td>1020.2</td>\n",
              "      <td>0.0</td>\n",
              "      <td>0.0</td>\n",
              "    </tr>\n",
              "    <tr>\n",
              "      <th>3</th>\n",
              "      <td>0</td>\n",
              "      <td>2016-01-01 03:00:00</td>\n",
              "      <td>21.1</td>\n",
              "      <td>2.0</td>\n",
              "      <td>20.6</td>\n",
              "      <td>0.0</td>\n",
              "      <td>1020.1</td>\n",
              "      <td>0.0</td>\n",
              "      <td>0.0</td>\n",
              "    </tr>\n",
              "    <tr>\n",
              "      <th>4</th>\n",
              "      <td>0</td>\n",
              "      <td>2016-01-01 04:00:00</td>\n",
              "      <td>20.0</td>\n",
              "      <td>2.0</td>\n",
              "      <td>20.0</td>\n",
              "      <td>-1.0</td>\n",
              "      <td>1020.0</td>\n",
              "      <td>250.0</td>\n",
              "      <td>2.6</td>\n",
              "    </tr>\n",
              "  </tbody>\n",
              "</table>\n",
              "</div>"
            ],
            "text/plain": [
              "   site_id            timestamp  ...  wind_direction  wind_speed\n",
              "0        0  2016-01-01 00:00:00  ...             0.0         0.0\n",
              "1        0  2016-01-01 01:00:00  ...            70.0         1.5\n",
              "2        0  2016-01-01 02:00:00  ...             0.0         0.0\n",
              "3        0  2016-01-01 03:00:00  ...             0.0         0.0\n",
              "4        0  2016-01-01 04:00:00  ...           250.0         2.6\n",
              "\n",
              "[5 rows x 9 columns]"
            ]
          },
          "metadata": {
            "tags": []
          },
          "execution_count": 22
        }
      ]
    },
    {
      "cell_type": "code",
      "metadata": {
        "colab_type": "code",
        "id": "YpBLA5kFEwDo",
        "outputId": "e1ff100c-2b27-4664-971c-bc90623445db",
        "colab": {
          "base_uri": "https://localhost:8080/",
          "height": 34
        }
      },
      "source": [
        "print('Size of weather_train_df data', weather_train_df.shape)\n"
      ],
      "execution_count": 0,
      "outputs": [
        {
          "output_type": "stream",
          "text": [
            "Size of weather_train_df data (139773, 9)\n"
          ],
          "name": "stdout"
        }
      ]
    },
    {
      "cell_type": "code",
      "metadata": {
        "colab_type": "code",
        "id": "bHCsYEsoEwHs",
        "outputId": "cc779853-2329-4170-a183-f24459d94375",
        "colab": {
          "base_uri": "https://localhost:8080/",
          "height": 85
        }
      },
      "source": [
        "weather_train_df.columns"
      ],
      "execution_count": 0,
      "outputs": [
        {
          "output_type": "execute_result",
          "data": {
            "text/plain": [
              "Index(['site_id', 'timestamp', 'air_temperature', 'cloud_coverage',\n",
              "       'dew_temperature', 'precip_depth_1_hr', 'sea_level_pressure',\n",
              "       'wind_direction', 'wind_speed'],\n",
              "      dtype='object')"
            ]
          },
          "metadata": {
            "tags": []
          },
          "execution_count": 24
        }
      ]
    },
    {
      "cell_type": "code",
      "metadata": {
        "colab_type": "code",
        "id": "Xp_ncMLNEwNv",
        "outputId": "00a5a1d9-7ea4-40c9-fc90-a8ee294daa57",
        "colab": {
          "base_uri": "https://localhost:8080/",
          "height": 187
        }
      },
      "source": [
        "weather_train_df.isnull().sum()"
      ],
      "execution_count": 0,
      "outputs": [
        {
          "output_type": "execute_result",
          "data": {
            "text/plain": [
              "site_id                   0\n",
              "timestamp                 0\n",
              "air_temperature          55\n",
              "cloud_coverage        69173\n",
              "dew_temperature         113\n",
              "precip_depth_1_hr     50289\n",
              "sea_level_pressure    10618\n",
              "wind_direction         6268\n",
              "wind_speed              304\n",
              "dtype: int64"
            ]
          },
          "metadata": {
            "tags": []
          },
          "execution_count": 25
        }
      ]
    },
    {
      "cell_type": "markdown",
      "metadata": {
        "id": "n0pA7_9qiufo",
        "colab_type": "text"
      },
      "source": [
        "**Drop columns with high frequency of null values**"
      ]
    },
    {
      "cell_type": "code",
      "metadata": {
        "colab_type": "code",
        "id": "-0XXtlhoEwTz",
        "colab": {}
      },
      "source": [
        "weather_train_df = weather_train_df.drop(columns=['precip_depth_1_hr','wind_direction','sea_level_pressure','cloud_coverage'], axis=1)\n"
      ],
      "execution_count": 0,
      "outputs": []
    },
    {
      "cell_type": "markdown",
      "metadata": {
        "id": "IPGe78mhi-Tm",
        "colab_type": "text"
      },
      "source": [
        "**Replace null values of**\n",
        "\n",
        "1.   **air_temperature**\n",
        "2.   **wind_speed**\n",
        "1.   **dew_temperature**\n",
        "\n",
        "**with the mean**\n",
        "\n",
        "\n",
        "\n",
        "\n",
        "\n",
        "\n",
        "\n",
        "\n"
      ]
    },
    {
      "cell_type": "code",
      "metadata": {
        "colab_type": "code",
        "id": "pc7S8Ym0FzCI",
        "colab": {}
      },
      "source": [
        "weather_train_df['air_temperature'].fillna(weather_train_df['air_temperature'].mean(), inplace=True)\n",
        "weather_train_df['wind_speed'].fillna(weather_train_df['wind_speed'].mean(), inplace=True)\n",
        "weather_train_df['dew_temperature'].fillna(weather_train_df['dew_temperature'].mean(), inplace=True)"
      ],
      "execution_count": 0,
      "outputs": []
    },
    {
      "cell_type": "code",
      "metadata": {
        "colab_type": "code",
        "id": "EQexWjLqFzKo",
        "outputId": "c1bfe55f-5f58-4476-9a17-4f03a1bc5170",
        "colab": {
          "base_uri": "https://localhost:8080/",
          "height": 204
        }
      },
      "source": [
        "weather_train_df.head()"
      ],
      "execution_count": 0,
      "outputs": [
        {
          "output_type": "execute_result",
          "data": {
            "text/html": [
              "<div>\n",
              "<style scoped>\n",
              "    .dataframe tbody tr th:only-of-type {\n",
              "        vertical-align: middle;\n",
              "    }\n",
              "\n",
              "    .dataframe tbody tr th {\n",
              "        vertical-align: top;\n",
              "    }\n",
              "\n",
              "    .dataframe thead th {\n",
              "        text-align: right;\n",
              "    }\n",
              "</style>\n",
              "<table border=\"1\" class=\"dataframe\">\n",
              "  <thead>\n",
              "    <tr style=\"text-align: right;\">\n",
              "      <th></th>\n",
              "      <th>site_id</th>\n",
              "      <th>timestamp</th>\n",
              "      <th>air_temperature</th>\n",
              "      <th>dew_temperature</th>\n",
              "      <th>wind_speed</th>\n",
              "    </tr>\n",
              "  </thead>\n",
              "  <tbody>\n",
              "    <tr>\n",
              "      <th>0</th>\n",
              "      <td>0</td>\n",
              "      <td>2016-01-01 00:00:00</td>\n",
              "      <td>25.0</td>\n",
              "      <td>20.0</td>\n",
              "      <td>0.0</td>\n",
              "    </tr>\n",
              "    <tr>\n",
              "      <th>1</th>\n",
              "      <td>0</td>\n",
              "      <td>2016-01-01 01:00:00</td>\n",
              "      <td>24.4</td>\n",
              "      <td>21.1</td>\n",
              "      <td>1.5</td>\n",
              "    </tr>\n",
              "    <tr>\n",
              "      <th>2</th>\n",
              "      <td>0</td>\n",
              "      <td>2016-01-01 02:00:00</td>\n",
              "      <td>22.8</td>\n",
              "      <td>21.1</td>\n",
              "      <td>0.0</td>\n",
              "    </tr>\n",
              "    <tr>\n",
              "      <th>3</th>\n",
              "      <td>0</td>\n",
              "      <td>2016-01-01 03:00:00</td>\n",
              "      <td>21.1</td>\n",
              "      <td>20.6</td>\n",
              "      <td>0.0</td>\n",
              "    </tr>\n",
              "    <tr>\n",
              "      <th>4</th>\n",
              "      <td>0</td>\n",
              "      <td>2016-01-01 04:00:00</td>\n",
              "      <td>20.0</td>\n",
              "      <td>20.0</td>\n",
              "      <td>2.6</td>\n",
              "    </tr>\n",
              "  </tbody>\n",
              "</table>\n",
              "</div>"
            ],
            "text/plain": [
              "   site_id            timestamp  air_temperature  dew_temperature  wind_speed\n",
              "0        0  2016-01-01 00:00:00             25.0             20.0         0.0\n",
              "1        0  2016-01-01 01:00:00             24.4             21.1         1.5\n",
              "2        0  2016-01-01 02:00:00             22.8             21.1         0.0\n",
              "3        0  2016-01-01 03:00:00             21.1             20.6         0.0\n",
              "4        0  2016-01-01 04:00:00             20.0             20.0         2.6"
            ]
          },
          "metadata": {
            "tags": []
          },
          "execution_count": 28
        }
      ]
    },
    {
      "cell_type": "markdown",
      "metadata": {
        "colab_type": "text",
        "id": "mehwBg4DGyDU"
      },
      "source": [
        "# **Concat dataFrames**"
      ]
    },
    {
      "cell_type": "code",
      "metadata": {
        "colab_type": "code",
        "id": "nyfbeRmLFzI6",
        "colab": {}
      },
      "source": [
        "#Merge train_df and building_train_df\n",
        "\n",
        "myData =  pd.merge(train_df,building_meta_df, on=['building_id'],sort=False)"
      ],
      "execution_count": 0,
      "outputs": []
    },
    {
      "cell_type": "code",
      "metadata": {
        "colab_type": "code",
        "id": "5ssJj7oDGmgH",
        "colab": {}
      },
      "source": [
        "#Merge train_df and building_train_df and weather_train_df into my_data\n",
        "\n",
        "myData=pd.merge(myData, weather_train_df, on=['site_id','timestamp'],sort=False)\n"
      ],
      "execution_count": 0,
      "outputs": []
    },
    {
      "cell_type": "code",
      "metadata": {
        "colab_type": "code",
        "id": "bM-3IeR_Gmk5",
        "outputId": "bb755ab4-1742-4312-b825-356dc9c6d165",
        "colab": {
          "base_uri": "https://localhost:8080/",
          "height": 85
        }
      },
      "source": [
        "myData.columns"
      ],
      "execution_count": 0,
      "outputs": [
        {
          "output_type": "execute_result",
          "data": {
            "text/plain": [
              "Index(['building_id', 'meter', 'timestamp', 'meter_reading', 'site_id',\n",
              "       'primary_use', 'square_feet', 'air_temperature', 'dew_temperature',\n",
              "       'wind_speed'],\n",
              "      dtype='object')"
            ]
          },
          "metadata": {
            "tags": []
          },
          "execution_count": 31
        }
      ]
    },
    {
      "cell_type": "code",
      "metadata": {
        "colab_type": "code",
        "id": "2EhBgsbVGIwQ",
        "outputId": "4c5046fe-56d8-408e-c074-9629e43db91b",
        "colab": {
          "base_uri": "https://localhost:8080/",
          "height": 204
        }
      },
      "source": [
        "myData.head()"
      ],
      "execution_count": 0,
      "outputs": [
        {
          "output_type": "execute_result",
          "data": {
            "text/html": [
              "<div>\n",
              "<style scoped>\n",
              "    .dataframe tbody tr th:only-of-type {\n",
              "        vertical-align: middle;\n",
              "    }\n",
              "\n",
              "    .dataframe tbody tr th {\n",
              "        vertical-align: top;\n",
              "    }\n",
              "\n",
              "    .dataframe thead th {\n",
              "        text-align: right;\n",
              "    }\n",
              "</style>\n",
              "<table border=\"1\" class=\"dataframe\">\n",
              "  <thead>\n",
              "    <tr style=\"text-align: right;\">\n",
              "      <th></th>\n",
              "      <th>building_id</th>\n",
              "      <th>meter</th>\n",
              "      <th>timestamp</th>\n",
              "      <th>meter_reading</th>\n",
              "      <th>site_id</th>\n",
              "      <th>primary_use</th>\n",
              "      <th>square_feet</th>\n",
              "      <th>air_temperature</th>\n",
              "      <th>dew_temperature</th>\n",
              "      <th>wind_speed</th>\n",
              "    </tr>\n",
              "  </thead>\n",
              "  <tbody>\n",
              "    <tr>\n",
              "      <th>0</th>\n",
              "      <td>0</td>\n",
              "      <td>0</td>\n",
              "      <td>2016-01-01 00:00:00</td>\n",
              "      <td>0.0</td>\n",
              "      <td>0</td>\n",
              "      <td>0</td>\n",
              "      <td>7432</td>\n",
              "      <td>25.0</td>\n",
              "      <td>20.0</td>\n",
              "      <td>0.0</td>\n",
              "    </tr>\n",
              "    <tr>\n",
              "      <th>1</th>\n",
              "      <td>1</td>\n",
              "      <td>0</td>\n",
              "      <td>2016-01-01 00:00:00</td>\n",
              "      <td>0.0</td>\n",
              "      <td>0</td>\n",
              "      <td>0</td>\n",
              "      <td>2720</td>\n",
              "      <td>25.0</td>\n",
              "      <td>20.0</td>\n",
              "      <td>0.0</td>\n",
              "    </tr>\n",
              "    <tr>\n",
              "      <th>2</th>\n",
              "      <td>2</td>\n",
              "      <td>0</td>\n",
              "      <td>2016-01-01 00:00:00</td>\n",
              "      <td>0.0</td>\n",
              "      <td>0</td>\n",
              "      <td>0</td>\n",
              "      <td>5376</td>\n",
              "      <td>25.0</td>\n",
              "      <td>20.0</td>\n",
              "      <td>0.0</td>\n",
              "    </tr>\n",
              "    <tr>\n",
              "      <th>3</th>\n",
              "      <td>3</td>\n",
              "      <td>0</td>\n",
              "      <td>2016-01-01 00:00:00</td>\n",
              "      <td>0.0</td>\n",
              "      <td>0</td>\n",
              "      <td>0</td>\n",
              "      <td>23685</td>\n",
              "      <td>25.0</td>\n",
              "      <td>20.0</td>\n",
              "      <td>0.0</td>\n",
              "    </tr>\n",
              "    <tr>\n",
              "      <th>4</th>\n",
              "      <td>4</td>\n",
              "      <td>0</td>\n",
              "      <td>2016-01-01 00:00:00</td>\n",
              "      <td>0.0</td>\n",
              "      <td>0</td>\n",
              "      <td>0</td>\n",
              "      <td>116607</td>\n",
              "      <td>25.0</td>\n",
              "      <td>20.0</td>\n",
              "      <td>0.0</td>\n",
              "    </tr>\n",
              "  </tbody>\n",
              "</table>\n",
              "</div>"
            ],
            "text/plain": [
              "   building_id  meter  ... dew_temperature  wind_speed\n",
              "0            0      0  ...            20.0         0.0\n",
              "1            1      0  ...            20.0         0.0\n",
              "2            2      0  ...            20.0         0.0\n",
              "3            3      0  ...            20.0         0.0\n",
              "4            4      0  ...            20.0         0.0\n",
              "\n",
              "[5 rows x 10 columns]"
            ]
          },
          "metadata": {
            "tags": []
          },
          "execution_count": 32
        }
      ]
    },
    {
      "cell_type": "code",
      "metadata": {
        "colab_type": "code",
        "id": "ySYC0a7yGI0T",
        "colab": {}
      },
      "source": [
        "# Split timestamp into month and day \n",
        "\n",
        "myData[\"month\"] = myData[\"timestamp\"].map(lambda row: row.split(\" \")[0].split(\"-\")[1])\n",
        "myData[\"day\"] = myData[\"timestamp\"].map(lambda row: row.split(\" \")[0].split(\"-\")[2])\n",
        "\n",
        "\n",
        "\n",
        "myData['month'] = pd.to_numeric(myData.month, errors='coerce')\n",
        "\n",
        "myData['day'] = pd.to_numeric(myData.month, errors='coerce')\n"
      ],
      "execution_count": 0,
      "outputs": []
    },
    {
      "cell_type": "code",
      "metadata": {
        "colab_type": "code",
        "id": "jriJhZ-dKsiu",
        "colab": {}
      },
      "source": [
        "myData = myData.drop(columns=[ 'timestamp','site_id'], axis=1)"
      ],
      "execution_count": 0,
      "outputs": []
    },
    {
      "cell_type": "code",
      "metadata": {
        "colab_type": "code",
        "id": "oh4vXRJMEwRi",
        "outputId": "789f0b79-57c4-4da7-fead-de5fe57b495c",
        "colab": {
          "base_uri": "https://localhost:8080/",
          "height": 68
        }
      },
      "source": [
        "myData.columns"
      ],
      "execution_count": 0,
      "outputs": [
        {
          "output_type": "execute_result",
          "data": {
            "text/plain": [
              "Index(['building_id', 'meter', 'meter_reading', 'primary_use', 'square_feet',\n",
              "       'air_temperature', 'dew_temperature', 'wind_speed', 'month', 'day'],\n",
              "      dtype='object')"
            ]
          },
          "metadata": {
            "tags": []
          },
          "execution_count": 35
        }
      ]
    },
    {
      "cell_type": "code",
      "metadata": {
        "colab_type": "code",
        "id": "8rQ_zN8WEwLX",
        "outputId": "0a1ca43c-aa56-442e-f302-8a45ee43514b",
        "colab": {
          "base_uri": "https://localhost:8080/",
          "height": 204
        }
      },
      "source": [
        "myData.head()"
      ],
      "execution_count": 0,
      "outputs": [
        {
          "output_type": "execute_result",
          "data": {
            "text/html": [
              "<div>\n",
              "<style scoped>\n",
              "    .dataframe tbody tr th:only-of-type {\n",
              "        vertical-align: middle;\n",
              "    }\n",
              "\n",
              "    .dataframe tbody tr th {\n",
              "        vertical-align: top;\n",
              "    }\n",
              "\n",
              "    .dataframe thead th {\n",
              "        text-align: right;\n",
              "    }\n",
              "</style>\n",
              "<table border=\"1\" class=\"dataframe\">\n",
              "  <thead>\n",
              "    <tr style=\"text-align: right;\">\n",
              "      <th></th>\n",
              "      <th>building_id</th>\n",
              "      <th>meter</th>\n",
              "      <th>meter_reading</th>\n",
              "      <th>primary_use</th>\n",
              "      <th>square_feet</th>\n",
              "      <th>air_temperature</th>\n",
              "      <th>dew_temperature</th>\n",
              "      <th>wind_speed</th>\n",
              "      <th>month</th>\n",
              "      <th>day</th>\n",
              "    </tr>\n",
              "  </thead>\n",
              "  <tbody>\n",
              "    <tr>\n",
              "      <th>0</th>\n",
              "      <td>0</td>\n",
              "      <td>0</td>\n",
              "      <td>0.0</td>\n",
              "      <td>0</td>\n",
              "      <td>7432</td>\n",
              "      <td>25.0</td>\n",
              "      <td>20.0</td>\n",
              "      <td>0.0</td>\n",
              "      <td>1</td>\n",
              "      <td>1</td>\n",
              "    </tr>\n",
              "    <tr>\n",
              "      <th>1</th>\n",
              "      <td>1</td>\n",
              "      <td>0</td>\n",
              "      <td>0.0</td>\n",
              "      <td>0</td>\n",
              "      <td>2720</td>\n",
              "      <td>25.0</td>\n",
              "      <td>20.0</td>\n",
              "      <td>0.0</td>\n",
              "      <td>1</td>\n",
              "      <td>1</td>\n",
              "    </tr>\n",
              "    <tr>\n",
              "      <th>2</th>\n",
              "      <td>2</td>\n",
              "      <td>0</td>\n",
              "      <td>0.0</td>\n",
              "      <td>0</td>\n",
              "      <td>5376</td>\n",
              "      <td>25.0</td>\n",
              "      <td>20.0</td>\n",
              "      <td>0.0</td>\n",
              "      <td>1</td>\n",
              "      <td>1</td>\n",
              "    </tr>\n",
              "    <tr>\n",
              "      <th>3</th>\n",
              "      <td>3</td>\n",
              "      <td>0</td>\n",
              "      <td>0.0</td>\n",
              "      <td>0</td>\n",
              "      <td>23685</td>\n",
              "      <td>25.0</td>\n",
              "      <td>20.0</td>\n",
              "      <td>0.0</td>\n",
              "      <td>1</td>\n",
              "      <td>1</td>\n",
              "    </tr>\n",
              "    <tr>\n",
              "      <th>4</th>\n",
              "      <td>4</td>\n",
              "      <td>0</td>\n",
              "      <td>0.0</td>\n",
              "      <td>0</td>\n",
              "      <td>116607</td>\n",
              "      <td>25.0</td>\n",
              "      <td>20.0</td>\n",
              "      <td>0.0</td>\n",
              "      <td>1</td>\n",
              "      <td>1</td>\n",
              "    </tr>\n",
              "  </tbody>\n",
              "</table>\n",
              "</div>"
            ],
            "text/plain": [
              "   building_id  meter  meter_reading  ...  wind_speed  month  day\n",
              "0            0      0            0.0  ...         0.0      1    1\n",
              "1            1      0            0.0  ...         0.0      1    1\n",
              "2            2      0            0.0  ...         0.0      1    1\n",
              "3            3      0            0.0  ...         0.0      1    1\n",
              "4            4      0            0.0  ...         0.0      1    1\n",
              "\n",
              "[5 rows x 10 columns]"
            ]
          },
          "metadata": {
            "tags": []
          },
          "execution_count": 36
        }
      ]
    },
    {
      "cell_type": "markdown",
      "metadata": {
        "colab_type": "text",
        "id": "aYMJls2mLUJO"
      },
      "source": [
        "# *Split myData into TrainDF and TestDF*"
      ]
    },
    {
      "cell_type": "code",
      "metadata": {
        "colab_type": "code",
        "id": "AiDP1cx_LC7Y",
        "colab": {}
      },
      "source": [
        "from sklearn.model_selection import train_test_split"
      ],
      "execution_count": 0,
      "outputs": []
    },
    {
      "cell_type": "code",
      "metadata": {
        "colab_type": "code",
        "id": "NR2hkJ3ZLPyE",
        "colab": {}
      },
      "source": [
        "trainDF,testdf = train_test_split(myData, test_size=0.2, random_state=45)\n"
      ],
      "execution_count": 0,
      "outputs": []
    },
    {
      "cell_type": "code",
      "metadata": {
        "colab_type": "code",
        "id": "8kZNVK3aLeKm",
        "outputId": "75953144-59d1-444d-8f27-563d8dd82c63",
        "colab": {
          "base_uri": "https://localhost:8080/",
          "height": 204
        }
      },
      "source": [
        "trainDF.head()"
      ],
      "execution_count": 0,
      "outputs": [
        {
          "output_type": "execute_result",
          "data": {
            "text/html": [
              "<div>\n",
              "<style scoped>\n",
              "    .dataframe tbody tr th:only-of-type {\n",
              "        vertical-align: middle;\n",
              "    }\n",
              "\n",
              "    .dataframe tbody tr th {\n",
              "        vertical-align: top;\n",
              "    }\n",
              "\n",
              "    .dataframe thead th {\n",
              "        text-align: right;\n",
              "    }\n",
              "</style>\n",
              "<table border=\"1\" class=\"dataframe\">\n",
              "  <thead>\n",
              "    <tr style=\"text-align: right;\">\n",
              "      <th></th>\n",
              "      <th>building_id</th>\n",
              "      <th>meter</th>\n",
              "      <th>meter_reading</th>\n",
              "      <th>primary_use</th>\n",
              "      <th>square_feet</th>\n",
              "      <th>air_temperature</th>\n",
              "      <th>dew_temperature</th>\n",
              "      <th>wind_speed</th>\n",
              "      <th>month</th>\n",
              "      <th>day</th>\n",
              "    </tr>\n",
              "  </thead>\n",
              "  <tbody>\n",
              "    <tr>\n",
              "      <th>9606115</th>\n",
              "      <td>835</td>\n",
              "      <td>0</td>\n",
              "      <td>43.4167</td>\n",
              "      <td>1</td>\n",
              "      <td>17220</td>\n",
              "      <td>13.9</td>\n",
              "      <td>11.1</td>\n",
              "      <td>4.1</td>\n",
              "      <td>12</td>\n",
              "      <td>12</td>\n",
              "    </tr>\n",
              "    <tr>\n",
              "      <th>184779</th>\n",
              "      <td>78</td>\n",
              "      <td>1</td>\n",
              "      <td>1392.9400</td>\n",
              "      <td>0</td>\n",
              "      <td>76257</td>\n",
              "      <td>22.2</td>\n",
              "      <td>16.1</td>\n",
              "      <td>4.1</td>\n",
              "      <td>3</td>\n",
              "      <td>3</td>\n",
              "    </tr>\n",
              "    <tr>\n",
              "      <th>10846520</th>\n",
              "      <td>955</td>\n",
              "      <td>2</td>\n",
              "      <td>311.1000</td>\n",
              "      <td>0</td>\n",
              "      <td>198488</td>\n",
              "      <td>33.3</td>\n",
              "      <td>23.9</td>\n",
              "      <td>2.6</td>\n",
              "      <td>6</td>\n",
              "      <td>6</td>\n",
              "    </tr>\n",
              "    <tr>\n",
              "      <th>14979167</th>\n",
              "      <td>1139</td>\n",
              "      <td>1</td>\n",
              "      <td>1847.2600</td>\n",
              "      <td>3</td>\n",
              "      <td>336650</td>\n",
              "      <td>20.0</td>\n",
              "      <td>10.6</td>\n",
              "      <td>2.6</td>\n",
              "      <td>9</td>\n",
              "      <td>9</td>\n",
              "    </tr>\n",
              "    <tr>\n",
              "      <th>1075753</th>\n",
              "      <td>97</td>\n",
              "      <td>1</td>\n",
              "      <td>1055.2600</td>\n",
              "      <td>2</td>\n",
              "      <td>187647</td>\n",
              "      <td>17.8</td>\n",
              "      <td>6.7</td>\n",
              "      <td>0.0</td>\n",
              "      <td>12</td>\n",
              "      <td>12</td>\n",
              "    </tr>\n",
              "  </tbody>\n",
              "</table>\n",
              "</div>"
            ],
            "text/plain": [
              "          building_id  meter  meter_reading  ...  wind_speed  month  day\n",
              "9606115           835      0        43.4167  ...         4.1     12   12\n",
              "184779             78      1      1392.9400  ...         4.1      3    3\n",
              "10846520          955      2       311.1000  ...         2.6      6    6\n",
              "14979167         1139      1      1847.2600  ...         2.6      9    9\n",
              "1075753            97      1      1055.2600  ...         0.0     12   12\n",
              "\n",
              "[5 rows x 10 columns]"
            ]
          },
          "metadata": {
            "tags": []
          },
          "execution_count": 39
        }
      ]
    },
    {
      "cell_type": "code",
      "metadata": {
        "colab_type": "code",
        "id": "GbS8sNoBLeTR",
        "outputId": "51785c86-61b6-4d94-9b98-2caa721f4b1b",
        "colab": {
          "base_uri": "https://localhost:8080/",
          "height": 204
        }
      },
      "source": [
        "testdf.head()"
      ],
      "execution_count": 0,
      "outputs": [
        {
          "output_type": "execute_result",
          "data": {
            "text/html": [
              "<div>\n",
              "<style scoped>\n",
              "    .dataframe tbody tr th:only-of-type {\n",
              "        vertical-align: middle;\n",
              "    }\n",
              "\n",
              "    .dataframe tbody tr th {\n",
              "        vertical-align: top;\n",
              "    }\n",
              "\n",
              "    .dataframe thead th {\n",
              "        text-align: right;\n",
              "    }\n",
              "</style>\n",
              "<table border=\"1\" class=\"dataframe\">\n",
              "  <thead>\n",
              "    <tr style=\"text-align: right;\">\n",
              "      <th></th>\n",
              "      <th>building_id</th>\n",
              "      <th>meter</th>\n",
              "      <th>meter_reading</th>\n",
              "      <th>primary_use</th>\n",
              "      <th>square_feet</th>\n",
              "      <th>air_temperature</th>\n",
              "      <th>dew_temperature</th>\n",
              "      <th>wind_speed</th>\n",
              "      <th>month</th>\n",
              "      <th>day</th>\n",
              "    </tr>\n",
              "  </thead>\n",
              "  <tbody>\n",
              "    <tr>\n",
              "      <th>12149165</th>\n",
              "      <td>959</td>\n",
              "      <td>1</td>\n",
              "      <td>266.9990</td>\n",
              "      <td>0</td>\n",
              "      <td>128536</td>\n",
              "      <td>12.2</td>\n",
              "      <td>8.3</td>\n",
              "      <td>0.0</td>\n",
              "      <td>12</td>\n",
              "      <td>12</td>\n",
              "    </tr>\n",
              "    <tr>\n",
              "      <th>7366675</th>\n",
              "      <td>728</td>\n",
              "      <td>0</td>\n",
              "      <td>5.3000</td>\n",
              "      <td>0</td>\n",
              "      <td>30300</td>\n",
              "      <td>4.0</td>\n",
              "      <td>3.0</td>\n",
              "      <td>8.2</td>\n",
              "      <td>2</td>\n",
              "      <td>2</td>\n",
              "    </tr>\n",
              "    <tr>\n",
              "      <th>16841290</th>\n",
              "      <td>1299</td>\n",
              "      <td>2</td>\n",
              "      <td>333.5230</td>\n",
              "      <td>0</td>\n",
              "      <td>25401</td>\n",
              "      <td>24.4</td>\n",
              "      <td>2.8</td>\n",
              "      <td>2.1</td>\n",
              "      <td>5</td>\n",
              "      <td>5</td>\n",
              "    </tr>\n",
              "    <tr>\n",
              "      <th>1246907</th>\n",
              "      <td>125</td>\n",
              "      <td>0</td>\n",
              "      <td>134.9000</td>\n",
              "      <td>0</td>\n",
              "      <td>16802</td>\n",
              "      <td>5.1</td>\n",
              "      <td>3.1</td>\n",
              "      <td>4.1</td>\n",
              "      <td>4</td>\n",
              "      <td>4</td>\n",
              "    </tr>\n",
              "    <tr>\n",
              "      <th>19061602</th>\n",
              "      <td>1358</td>\n",
              "      <td>1</td>\n",
              "      <td>36.6751</td>\n",
              "      <td>2</td>\n",
              "      <td>61439</td>\n",
              "      <td>20.0</td>\n",
              "      <td>7.2</td>\n",
              "      <td>4.1</td>\n",
              "      <td>6</td>\n",
              "      <td>6</td>\n",
              "    </tr>\n",
              "  </tbody>\n",
              "</table>\n",
              "</div>"
            ],
            "text/plain": [
              "          building_id  meter  meter_reading  ...  wind_speed  month  day\n",
              "12149165          959      1       266.9990  ...         0.0     12   12\n",
              "7366675           728      0         5.3000  ...         8.2      2    2\n",
              "16841290         1299      2       333.5230  ...         2.1      5    5\n",
              "1246907           125      0       134.9000  ...         4.1      4    4\n",
              "19061602         1358      1        36.6751  ...         4.1      6    6\n",
              "\n",
              "[5 rows x 10 columns]"
            ]
          },
          "metadata": {
            "tags": []
          },
          "execution_count": 40
        }
      ]
    },
    {
      "cell_type": "markdown",
      "metadata": {
        "colab_type": "text",
        "id": "co-HqSwWMQAQ"
      },
      "source": [
        "**Split into x_train and y_train**"
      ]
    },
    {
      "cell_type": "code",
      "metadata": {
        "colab_type": "code",
        "id": "LxAyVlRKMLDB",
        "colab": {}
      },
      "source": [
        "x_train = trainDF[['meter', 'building_id', 'primary_use', 'month', 'day','air_temperature','dew_temperature', 'wind_speed','square_feet']]\n",
        "y_train = trainDF['meter_reading']"
      ],
      "execution_count": 0,
      "outputs": []
    },
    {
      "cell_type": "code",
      "metadata": {
        "colab_type": "code",
        "id": "pHEYEJi_MkGl",
        "outputId": "7a43b2fe-e66d-4208-cc02-b4f2d7db51d0",
        "colab": {
          "base_uri": "https://localhost:8080/",
          "height": 51
        }
      },
      "source": [
        "print('Size of x_train data', x_train.shape)\n",
        "print('Size of y_train data', y_train.shape)"
      ],
      "execution_count": 0,
      "outputs": [
        {
          "output_type": "stream",
          "text": [
            "Size of x_train data (16100484, 9)\n",
            "Size of y_train data (16100484,)\n"
          ],
          "name": "stdout"
        }
      ]
    },
    {
      "cell_type": "code",
      "metadata": {
        "colab_type": "code",
        "id": "ytX9K55DNUbw",
        "outputId": "d1f65b1b-e433-4c49-d37f-c134fb655c15",
        "colab": {
          "base_uri": "https://localhost:8080/",
          "height": 204
        }
      },
      "source": [
        "x_train .head()"
      ],
      "execution_count": 0,
      "outputs": [
        {
          "output_type": "execute_result",
          "data": {
            "text/html": [
              "<div>\n",
              "<style scoped>\n",
              "    .dataframe tbody tr th:only-of-type {\n",
              "        vertical-align: middle;\n",
              "    }\n",
              "\n",
              "    .dataframe tbody tr th {\n",
              "        vertical-align: top;\n",
              "    }\n",
              "\n",
              "    .dataframe thead th {\n",
              "        text-align: right;\n",
              "    }\n",
              "</style>\n",
              "<table border=\"1\" class=\"dataframe\">\n",
              "  <thead>\n",
              "    <tr style=\"text-align: right;\">\n",
              "      <th></th>\n",
              "      <th>meter</th>\n",
              "      <th>building_id</th>\n",
              "      <th>primary_use</th>\n",
              "      <th>month</th>\n",
              "      <th>day</th>\n",
              "      <th>air_temperature</th>\n",
              "      <th>dew_temperature</th>\n",
              "      <th>wind_speed</th>\n",
              "      <th>square_feet</th>\n",
              "    </tr>\n",
              "  </thead>\n",
              "  <tbody>\n",
              "    <tr>\n",
              "      <th>9606115</th>\n",
              "      <td>0</td>\n",
              "      <td>835</td>\n",
              "      <td>1</td>\n",
              "      <td>12</td>\n",
              "      <td>12</td>\n",
              "      <td>13.9</td>\n",
              "      <td>11.1</td>\n",
              "      <td>4.1</td>\n",
              "      <td>17220</td>\n",
              "    </tr>\n",
              "    <tr>\n",
              "      <th>184779</th>\n",
              "      <td>1</td>\n",
              "      <td>78</td>\n",
              "      <td>0</td>\n",
              "      <td>3</td>\n",
              "      <td>3</td>\n",
              "      <td>22.2</td>\n",
              "      <td>16.1</td>\n",
              "      <td>4.1</td>\n",
              "      <td>76257</td>\n",
              "    </tr>\n",
              "    <tr>\n",
              "      <th>10846520</th>\n",
              "      <td>2</td>\n",
              "      <td>955</td>\n",
              "      <td>0</td>\n",
              "      <td>6</td>\n",
              "      <td>6</td>\n",
              "      <td>33.3</td>\n",
              "      <td>23.9</td>\n",
              "      <td>2.6</td>\n",
              "      <td>198488</td>\n",
              "    </tr>\n",
              "    <tr>\n",
              "      <th>14979167</th>\n",
              "      <td>1</td>\n",
              "      <td>1139</td>\n",
              "      <td>3</td>\n",
              "      <td>9</td>\n",
              "      <td>9</td>\n",
              "      <td>20.0</td>\n",
              "      <td>10.6</td>\n",
              "      <td>2.6</td>\n",
              "      <td>336650</td>\n",
              "    </tr>\n",
              "    <tr>\n",
              "      <th>1075753</th>\n",
              "      <td>1</td>\n",
              "      <td>97</td>\n",
              "      <td>2</td>\n",
              "      <td>12</td>\n",
              "      <td>12</td>\n",
              "      <td>17.8</td>\n",
              "      <td>6.7</td>\n",
              "      <td>0.0</td>\n",
              "      <td>187647</td>\n",
              "    </tr>\n",
              "  </tbody>\n",
              "</table>\n",
              "</div>"
            ],
            "text/plain": [
              "          meter  building_id  ...  wind_speed  square_feet\n",
              "9606115       0          835  ...         4.1        17220\n",
              "184779        1           78  ...         4.1        76257\n",
              "10846520      2          955  ...         2.6       198488\n",
              "14979167      1         1139  ...         2.6       336650\n",
              "1075753       1           97  ...         0.0       187647\n",
              "\n",
              "[5 rows x 9 columns]"
            ]
          },
          "metadata": {
            "tags": []
          },
          "execution_count": 43
        }
      ]
    },
    {
      "cell_type": "code",
      "metadata": {
        "colab_type": "code",
        "id": "hiLcOzqrN-rW",
        "outputId": "e77afc74-ef27-4e1a-b3a9-4c89166abab9",
        "colab": {
          "base_uri": "https://localhost:8080/",
          "height": 119
        }
      },
      "source": [
        "y_train .head()"
      ],
      "execution_count": 0,
      "outputs": [
        {
          "output_type": "execute_result",
          "data": {
            "text/plain": [
              "9606115       43.4167\n",
              "184779      1392.9400\n",
              "10846520     311.1000\n",
              "14979167    1847.2600\n",
              "1075753     1055.2600\n",
              "Name: meter_reading, dtype: float64"
            ]
          },
          "metadata": {
            "tags": []
          },
          "execution_count": 44
        }
      ]
    },
    {
      "cell_type": "code",
      "metadata": {
        "colab_type": "code",
        "id": "fjOjVENiLeQ0",
        "colab": {}
      },
      "source": [
        "x_test = testdf[['meter', 'building_id', 'primary_use', 'month', 'day','air_temperature','dew_temperature', 'wind_speed','square_feet']]\n",
        "y_test = testdf['meter_reading']"
      ],
      "execution_count": 0,
      "outputs": []
    },
    {
      "cell_type": "code",
      "metadata": {
        "colab_type": "code",
        "id": "SJd5R6TKNKC9",
        "outputId": "f7472bbb-fc2a-44b3-8b86-ddf6c0a6520d",
        "colab": {
          "base_uri": "https://localhost:8080/",
          "height": 51
        }
      },
      "source": [
        "print('Size of x_test data', x_test.shape)\n",
        "print('Size of y_test data', y_test.shape)"
      ],
      "execution_count": 0,
      "outputs": [
        {
          "output_type": "stream",
          "text": [
            "Size of x_test data (4025121, 9)\n",
            "Size of y_test data (4025121,)\n"
          ],
          "name": "stdout"
        }
      ]
    },
    {
      "cell_type": "code",
      "metadata": {
        "colab_type": "code",
        "id": "fAulGkJsMkPR",
        "outputId": "d75c601c-92cc-4b90-f035-a39f91ff147a",
        "colab": {
          "base_uri": "https://localhost:8080/",
          "height": 204
        }
      },
      "source": [
        "x_test.head()"
      ],
      "execution_count": 0,
      "outputs": [
        {
          "output_type": "execute_result",
          "data": {
            "text/html": [
              "<div>\n",
              "<style scoped>\n",
              "    .dataframe tbody tr th:only-of-type {\n",
              "        vertical-align: middle;\n",
              "    }\n",
              "\n",
              "    .dataframe tbody tr th {\n",
              "        vertical-align: top;\n",
              "    }\n",
              "\n",
              "    .dataframe thead th {\n",
              "        text-align: right;\n",
              "    }\n",
              "</style>\n",
              "<table border=\"1\" class=\"dataframe\">\n",
              "  <thead>\n",
              "    <tr style=\"text-align: right;\">\n",
              "      <th></th>\n",
              "      <th>meter</th>\n",
              "      <th>building_id</th>\n",
              "      <th>primary_use</th>\n",
              "      <th>month</th>\n",
              "      <th>day</th>\n",
              "      <th>air_temperature</th>\n",
              "      <th>dew_temperature</th>\n",
              "      <th>wind_speed</th>\n",
              "      <th>square_feet</th>\n",
              "    </tr>\n",
              "  </thead>\n",
              "  <tbody>\n",
              "    <tr>\n",
              "      <th>12149165</th>\n",
              "      <td>1</td>\n",
              "      <td>959</td>\n",
              "      <td>0</td>\n",
              "      <td>12</td>\n",
              "      <td>12</td>\n",
              "      <td>12.2</td>\n",
              "      <td>8.3</td>\n",
              "      <td>0.0</td>\n",
              "      <td>128536</td>\n",
              "    </tr>\n",
              "    <tr>\n",
              "      <th>7366675</th>\n",
              "      <td>0</td>\n",
              "      <td>728</td>\n",
              "      <td>0</td>\n",
              "      <td>2</td>\n",
              "      <td>2</td>\n",
              "      <td>4.0</td>\n",
              "      <td>3.0</td>\n",
              "      <td>8.2</td>\n",
              "      <td>30300</td>\n",
              "    </tr>\n",
              "    <tr>\n",
              "      <th>16841290</th>\n",
              "      <td>2</td>\n",
              "      <td>1299</td>\n",
              "      <td>0</td>\n",
              "      <td>5</td>\n",
              "      <td>5</td>\n",
              "      <td>24.4</td>\n",
              "      <td>2.8</td>\n",
              "      <td>2.1</td>\n",
              "      <td>25401</td>\n",
              "    </tr>\n",
              "    <tr>\n",
              "      <th>1246907</th>\n",
              "      <td>0</td>\n",
              "      <td>125</td>\n",
              "      <td>0</td>\n",
              "      <td>4</td>\n",
              "      <td>4</td>\n",
              "      <td>5.1</td>\n",
              "      <td>3.1</td>\n",
              "      <td>4.1</td>\n",
              "      <td>16802</td>\n",
              "    </tr>\n",
              "    <tr>\n",
              "      <th>19061602</th>\n",
              "      <td>1</td>\n",
              "      <td>1358</td>\n",
              "      <td>2</td>\n",
              "      <td>6</td>\n",
              "      <td>6</td>\n",
              "      <td>20.0</td>\n",
              "      <td>7.2</td>\n",
              "      <td>4.1</td>\n",
              "      <td>61439</td>\n",
              "    </tr>\n",
              "  </tbody>\n",
              "</table>\n",
              "</div>"
            ],
            "text/plain": [
              "          meter  building_id  ...  wind_speed  square_feet\n",
              "12149165      1          959  ...         0.0       128536\n",
              "7366675       0          728  ...         8.2        30300\n",
              "16841290      2         1299  ...         2.1        25401\n",
              "1246907       0          125  ...         4.1        16802\n",
              "19061602      1         1358  ...         4.1        61439\n",
              "\n",
              "[5 rows x 9 columns]"
            ]
          },
          "metadata": {
            "tags": []
          },
          "execution_count": 47
        }
      ]
    },
    {
      "cell_type": "code",
      "metadata": {
        "colab_type": "code",
        "id": "csXjGl4UMkMH",
        "outputId": "d46b8835-2934-440a-a0c7-aa8865573532",
        "colab": {
          "base_uri": "https://localhost:8080/",
          "height": 119
        }
      },
      "source": [
        "y_test.head()"
      ],
      "execution_count": 0,
      "outputs": [
        {
          "output_type": "execute_result",
          "data": {
            "text/plain": [
              "12149165    266.9990\n",
              "7366675       5.3000\n",
              "16841290    333.5230\n",
              "1246907     134.9000\n",
              "19061602     36.6751\n",
              "Name: meter_reading, dtype: float64"
            ]
          },
          "metadata": {
            "tags": []
          },
          "execution_count": 48
        }
      ]
    },
    {
      "cell_type": "code",
      "metadata": {
        "colab_type": "code",
        "id": "7sAhFpo6MLJw",
        "colab": {}
      },
      "source": [
        "# Store data into a pickle file to use in the modeling phase\n",
        "import pickle\n",
        "with open('clean_data.pickle', 'wb') as f:\n",
        "    pickle.dump([x_train, y_train, x_test,y_test], f)"
      ],
      "execution_count": 0,
      "outputs": []
    },
    {
      "cell_type": "markdown",
      "metadata": {
        "colab_type": "text",
        "id": "G0i_JspqRcKg"
      },
      "source": [
        "# **Setting the model**"
      ]
    },
    {
      "cell_type": "markdown",
      "metadata": {
        "colab_type": "text",
        "id": "9jW9hk12SNTc"
      },
      "source": [
        "Load the pickle file"
      ]
    },
    {
      "cell_type": "code",
      "metadata": {
        "colab_type": "code",
        "id": "UfkhwZpXLeOf",
        "colab": {}
      },
      "source": [
        "import pickle\n",
        "with open('clean_data.pickle', 'rb') as f:\n",
        "    [x_train,y_train, x_test, y_test] = pickle.load(f)"
      ],
      "execution_count": 0,
      "outputs": []
    },
    {
      "cell_type": "code",
      "metadata": {
        "colab_type": "code",
        "id": "6qMk-ZyTXMvN",
        "outputId": "e9586eef-f63b-44b2-83f9-8129f4dd5ab2",
        "colab": {
          "base_uri": "https://localhost:8080/",
          "height": 85
        }
      },
      "source": [
        "print('Size of x_train data', x_train.shape)\n",
        "print('Size of y_train data', y_train.shape)\n",
        "print('Size of x_test data', x_test.shape)\n",
        "print('Size of y_test data', y_test.shape)"
      ],
      "execution_count": 0,
      "outputs": [
        {
          "output_type": "stream",
          "text": [
            "Size of x_train data (16100484, 9)\n",
            "Size of y_train data (16100484,)\n",
            "Size of x_test data (4025121, 9)\n",
            "Size of y_test data (4025121,)\n"
          ],
          "name": "stdout"
        }
      ]
    },
    {
      "cell_type": "code",
      "metadata": {
        "colab_type": "code",
        "id": "pdfbCr4-PuwA",
        "outputId": "a06f0044-74e6-42fa-9264-418f81cc31cd",
        "colab": {
          "base_uri": "https://localhost:8080/",
          "height": 80
        }
      },
      "source": [
        "from sklearn import preprocessing\n",
        "from keras import backend as K\n",
        "from keras.callbacks import ModelCheckpoint, EarlyStopping\n",
        "from keras.layers import Dense, LSTM, GRU, Dropout, BatchNormalization\n",
        "from keras.models import Sequential\n",
        "from keras.optimizers import RMSprop,Adam\n",
        "from keras import regularizers"
      ],
      "execution_count": 0,
      "outputs": [
        {
          "output_type": "stream",
          "text": [
            "Using TensorFlow backend.\n"
          ],
          "name": "stderr"
        },
        {
          "output_type": "display_data",
          "data": {
            "text/html": [
              "<p style=\"color: red;\">\n",
              "The default version of TensorFlow in Colab will soon switch to TensorFlow 2.x.<br>\n",
              "We recommend you <a href=\"https://www.tensorflow.org/guide/migrate\" target=\"_blank\">upgrade</a> now \n",
              "or ensure your notebook will continue to use TensorFlow 1.x via the <code>%tensorflow_version 1.x</code> magic:\n",
              "<a href=\"https://colab.research.google.com/notebooks/tensorflow_version.ipynb\" target=\"_blank\">more info</a>.</p>\n"
            ],
            "text/plain": [
              "<IPython.core.display.HTML object>"
            ]
          },
          "metadata": {
            "tags": []
          }
        }
      ]
    },
    {
      "cell_type": "code",
      "metadata": {
        "colab_type": "code",
        "id": "YbG5JWZdPusb",
        "colab": {}
      },
      "source": [
        "#RMSE Error\n",
        "def root_mean_squared_error(y_true, y_pred):\n",
        "  return K.sqrt(K.mean(K.square(y_pred - y_true)))"
      ],
      "execution_count": 0,
      "outputs": []
    },
    {
      "cell_type": "markdown",
      "metadata": {
        "id": "PKra15-lkKBm",
        "colab_type": "text"
      },
      "source": [
        "## **Model: Fully connected with 5 layers**"
      ]
    },
    {
      "cell_type": "code",
      "metadata": {
        "colab_type": "code",
        "id": "SjvHiPYqSUyl",
        "colab": {}
      },
      "source": [
        "model = Sequential()\n",
        "\n",
        "# First and second layers\n",
        "model.add(Dense(500, input_dim=9, activation= \"relu\"))\n",
        "# Desactivate 20% of neurons \n",
        "model.add(Dropout(0.2))\n",
        "\n",
        "# Add a 3rd layer\n",
        "model.add(Dense(100, activation= \"relu\"))\n",
        "model.add(Dropout(0.2))\n",
        "\n",
        "# Add a 4th layer\n",
        "model.add(Dense(50, activation= \"relu\"))\n",
        "\n",
        "#Add the last layer\n",
        "model.add(Dense(1))"
      ],
      "execution_count": 0,
      "outputs": []
    },
    {
      "cell_type": "code",
      "metadata": {
        "colab_type": "code",
        "id": "dGuNwPSPSU2d",
        "outputId": "fa8ed1c8-5db3-4fd0-ed32-17721a429e9b",
        "colab": {
          "base_uri": "https://localhost:8080/",
          "height": 71
        }
      },
      "source": [
        "def root_mean_squared_error(y_true, y_pred):\n",
        "  return K.sqrt(K.mean(K.square(y_pred - y_true)))\n",
        "\n",
        "\n",
        "metrics = root_mean_squared_error\n",
        "model.compile(loss='mse', optimizer=\"rmsprop\" ,metrics=[metrics])"
      ],
      "execution_count": 0,
      "outputs": [
        {
          "output_type": "stream",
          "text": [
            "WARNING:tensorflow:From /usr/local/lib/python3.6/dist-packages/keras/optimizers.py:793: The name tf.train.Optimizer is deprecated. Please use tf.compat.v1.train.Optimizer instead.\n",
            "\n"
          ],
          "name": "stdout"
        }
      ]
    },
    {
      "cell_type": "code",
      "metadata": {
        "colab_type": "code",
        "id": "P5fGYnRHSunq",
        "colab": {}
      },
      "source": [
        " #Normalize the distribution of data\n",
        "\n",
        "y_train = np.log1p(y_train)\n"
      ],
      "execution_count": 0,
      "outputs": []
    },
    {
      "cell_type": "code",
      "metadata": {
        "colab_type": "code",
        "id": "lkmwJ21rSusi",
        "colab": {}
      },
      "source": [
        "#Prevent OVERFITTING with EarlyStopping Function\n",
        "\n",
        "es = EarlyStopping(monitor='val_loss', min_delta=0.0001, patience=5, verbose=True, mode='auto')"
      ],
      "execution_count": 0,
      "outputs": []
    },
    {
      "cell_type": "code",
      "metadata": {
        "colab_type": "code",
        "id": "kQ3K9k8Xi0nk",
        "outputId": "9a223825-d559-4d46-db02-f45daa90d67d",
        "colab": {
          "base_uri": "https://localhost:8080/",
          "height": 119
        }
      },
      "source": [
        "y_train.head()"
      ],
      "execution_count": 0,
      "outputs": [
        {
          "output_type": "execute_result",
          "data": {
            "text/plain": [
              "9606115     3.793616\n",
              "184779      7.239890\n",
              "10846520    5.743324\n",
              "14979167    7.522000\n",
              "1075753     6.962490\n",
              "Name: meter_reading, dtype: float64"
            ]
          },
          "metadata": {
            "tags": []
          },
          "execution_count": 59
        }
      ]
    },
    {
      "cell_type": "code",
      "metadata": {
        "colab_type": "code",
        "id": "grpU7XWOkM62",
        "colab": {}
      },
      "source": [
        "#assert not np.any(np.isnan(x))"
      ],
      "execution_count": 0,
      "outputs": []
    },
    {
      "cell_type": "markdown",
      "metadata": {
        "id": "1kHRmwXXlAfq",
        "colab_type": "text"
      },
      "source": [
        "## **Fitting the model**"
      ]
    },
    {
      "cell_type": "code",
      "metadata": {
        "colab_type": "code",
        "id": "2DWPZWCdSU57",
        "outputId": "bda36e99-abad-48bb-ca19-dbebd434e244",
        "colab": {
          "base_uri": "https://localhost:8080/",
          "height": 836
        }
      },
      "source": [
        "model.fit(x_train,y_train,epochs=30,batch_size=500,verbose=1,validation_data=(x_test, y_test),callbacks=[es])\n"
      ],
      "execution_count": 0,
      "outputs": [
        {
          "output_type": "stream",
          "text": [
            "WARNING:tensorflow:From /usr/local/lib/python3.6/dist-packages/keras/backend/tensorflow_backend.py:1033: The name tf.assign_add is deprecated. Please use tf.compat.v1.assign_add instead.\n",
            "\n",
            "WARNING:tensorflow:From /usr/local/lib/python3.6/dist-packages/keras/backend/tensorflow_backend.py:1020: The name tf.assign is deprecated. Please use tf.compat.v1.assign instead.\n",
            "\n",
            "WARNING:tensorflow:From /usr/local/lib/python3.6/dist-packages/keras/backend/tensorflow_backend.py:3005: The name tf.Session is deprecated. Please use tf.compat.v1.Session instead.\n",
            "\n",
            "Train on 16100484 samples, validate on 4025121 samples\n",
            "Epoch 1/30\n",
            "WARNING:tensorflow:From /usr/local/lib/python3.6/dist-packages/keras/backend/tensorflow_backend.py:190: The name tf.get_default_session is deprecated. Please use tf.compat.v1.get_default_session instead.\n",
            "\n",
            "WARNING:tensorflow:From /usr/local/lib/python3.6/dist-packages/keras/backend/tensorflow_backend.py:197: The name tf.ConfigProto is deprecated. Please use tf.compat.v1.ConfigProto instead.\n",
            "\n",
            "WARNING:tensorflow:From /usr/local/lib/python3.6/dist-packages/keras/backend/tensorflow_backend.py:207: The name tf.global_variables is deprecated. Please use tf.compat.v1.global_variables instead.\n",
            "\n",
            "WARNING:tensorflow:From /usr/local/lib/python3.6/dist-packages/keras/backend/tensorflow_backend.py:216: The name tf.is_variable_initialized is deprecated. Please use tf.compat.v1.is_variable_initialized instead.\n",
            "\n",
            "WARNING:tensorflow:From /usr/local/lib/python3.6/dist-packages/keras/backend/tensorflow_backend.py:223: The name tf.variables_initializer is deprecated. Please use tf.compat.v1.variables_initializer instead.\n",
            "\n",
            "16100484/16100484 [==============================] - 330s 20us/step - loss: 10858.0277 - root_mean_squared_error: 5.7523 - val_loss: 23225920547.3603 - val_root_mean_squared_error: 38327.6023\n",
            "Epoch 2/30\n",
            "16100484/16100484 [==============================] - 334s 21us/step - loss: 5.7782 - root_mean_squared_error: 2.1558 - val_loss: 23225920147.9260 - val_root_mean_squared_error: 38327.5811\n",
            "Epoch 3/30\n",
            "16100484/16100484 [==============================] - 330s 20us/step - loss: 4.3862 - root_mean_squared_error: 2.0650 - val_loss: 23225918183.6139 - val_root_mean_squared_error: 38327.5418\n",
            "Epoch 4/30\n",
            "16100484/16100484 [==============================] - 325s 20us/step - loss: 3.7647 - root_mean_squared_error: 1.9361 - val_loss: 23225920226.2218 - val_root_mean_squared_error: 38327.6114\n",
            "Epoch 5/30\n",
            "16100484/16100484 [==============================] - 329s 20us/step - loss: 3.6852 - root_mean_squared_error: 1.9164 - val_loss: 23225915115.3788 - val_root_mean_squared_error: 38327.4689\n",
            "Epoch 6/30\n",
            "16100484/16100484 [==============================] - 332s 21us/step - loss: 3.6453 - root_mean_squared_error: 1.9062 - val_loss: 23225914156.9692 - val_root_mean_squared_error: 38327.4710\n",
            "Epoch 7/30\n",
            "16100484/16100484 [==============================] - 332s 21us/step - loss: 3.6034 - root_mean_squared_error: 1.8955 - val_loss: 23225912999.0068 - val_root_mean_squared_error: 38327.3612\n",
            "Epoch 8/30\n",
            "16100484/16100484 [==============================] - 327s 20us/step - loss: 3.6229 - root_mean_squared_error: 1.8927 - val_loss: 23225913491.9547 - val_root_mean_squared_error: 38327.3993\n",
            "Epoch 9/30\n",
            "16100484/16100484 [==============================] - 328s 20us/step - loss: 3.5990 - root_mean_squared_error: 1.8840 - val_loss: 23225912756.8806 - val_root_mean_squared_error: 38327.3073\n",
            "Epoch 10/30\n",
            "16100484/16100484 [==============================] - 324s 20us/step - loss: 3.5597 - root_mean_squared_error: 1.8756 - val_loss: 23225918087.6141 - val_root_mean_squared_error: 38327.5469\n",
            "Epoch 11/30\n",
            "16100484/16100484 [==============================] - 331s 21us/step - loss: 3.5465 - root_mean_squared_error: 1.8684 - val_loss: 23225916586.4034 - val_root_mean_squared_error: 38327.4668\n",
            "Epoch 12/30\n",
            "16100484/16100484 [==============================] - 331s 21us/step - loss: 5.5549 - root_mean_squared_error: 1.9174 - val_loss: 23225915221.6540 - val_root_mean_squared_error: 38327.4432\n",
            "Epoch 13/30\n",
            "16100484/16100484 [==============================] - 332s 21us/step - loss: 3.7176 - root_mean_squared_error: 1.8697 - val_loss: 23225914662.9705 - val_root_mean_squared_error: 38327.4031\n",
            "Epoch 14/30\n",
            "16100484/16100484 [==============================] - 329s 20us/step - loss: 4.9368 - root_mean_squared_error: 1.9154 - val_loss: 23225913137.3995 - val_root_mean_squared_error: 38327.3423\n",
            "Epoch 00014: early stopping\n"
          ],
          "name": "stdout"
        },
        {
          "output_type": "execute_result",
          "data": {
            "text/plain": [
              "<keras.callbacks.History at 0x7fe63e2d1dd8>"
            ]
          },
          "metadata": {
            "tags": []
          },
          "execution_count": 61
        }
      ]
    },
    {
      "cell_type": "code",
      "metadata": {
        "colab_type": "code",
        "id": "fI6NY-khLP3g",
        "colab": {}
      },
      "source": [
        "from keras.models import load_model\n",
        "model.save('model1.h5')  # creates a HDF5 file 'my_model.h5'"
      ],
      "execution_count": 0,
      "outputs": []
    },
    {
      "cell_type": "code",
      "metadata": {
        "colab_type": "code",
        "id": "Cxt5yY9uTRYE",
        "colab": {}
      },
      "source": [
        "model.load_weights(\"model1.h5\")"
      ],
      "execution_count": 0,
      "outputs": []
    },
    {
      "cell_type": "markdown",
      "metadata": {
        "id": "SXUcrPSMlKV-",
        "colab_type": "text"
      },
      "source": [
        "## **Validation**"
      ]
    },
    {
      "cell_type": "code",
      "metadata": {
        "colab_type": "code",
        "id": "NxgHXd8YyCYl",
        "colab": {}
      },
      "source": [
        "y_test = np.log1p(y_test)"
      ],
      "execution_count": 0,
      "outputs": []
    },
    {
      "cell_type": "code",
      "metadata": {
        "colab_type": "code",
        "id": "r33X8uIKTRgo",
        "outputId": "d377e15a-4c84-4f8d-8a53-c3d10a50d267",
        "colab": {
          "base_uri": "https://localhost:8080/",
          "height": 34
        }
      },
      "source": [
        "y_predicted= model.predict(x_test ,batch_size=1024, verbose=1)\n"
      ],
      "execution_count": 0,
      "outputs": [
        {
          "output_type": "stream",
          "text": [
            "4025121/4025121 [==============================] - 11s 3us/step\n"
          ],
          "name": "stdout"
        }
      ]
    },
    {
      "cell_type": "code",
      "metadata": {
        "colab_type": "code",
        "id": "T6uuIA7CzT03",
        "outputId": "d5d2c32e-6dc8-4a48-8f19-d09950123f06",
        "colab": {
          "base_uri": "https://localhost:8080/",
          "height": 34
        }
      },
      "source": [
        "y_predicted[5555]"
      ],
      "execution_count": 0,
      "outputs": [
        {
          "output_type": "execute_result",
          "data": {
            "text/plain": [
              "array([3.6776776], dtype=float32)"
            ]
          },
          "metadata": {
            "tags": []
          },
          "execution_count": 67
        }
      ]
    },
    {
      "cell_type": "code",
      "metadata": {
        "colab_type": "code",
        "id": "NUmd9sNKzY1F",
        "colab": {}
      },
      "source": [
        "y_test = np.log1p(y_test)"
      ],
      "execution_count": 0,
      "outputs": []
    },
    {
      "cell_type": "code",
      "metadata": {
        "colab_type": "code",
        "id": "5w6o6NavTRk2",
        "colab": {}
      },
      "source": [
        "from sklearn.metrics import mean_squared_error\n",
        "\n"
      ],
      "execution_count": 0,
      "outputs": []
    },
    {
      "cell_type": "code",
      "metadata": {
        "colab_type": "code",
        "id": "QuxhRsu3TRy0",
        "outputId": "dce3a8fb-564e-4c37-b0f6-0ec82eec0c2a",
        "colab": {
          "base_uri": "https://localhost:8080/",
          "height": 34
        }
      },
      "source": [
        "print(np.sqrt(mean_squared_error(y_test,y_predicted)))\n"
      ],
      "execution_count": 0,
      "outputs": [
        {
          "output_type": "stream",
          "text": [
            "3.4388107471009532\n"
          ],
          "name": "stdout"
        }
      ]
    },
    {
      "cell_type": "markdown",
      "metadata": {
        "colab_type": "text",
        "id": "h8zRIN8ZUDt9"
      },
      "source": [
        "# **Evaluating the model with testdata**"
      ]
    },
    {
      "cell_type": "code",
      "metadata": {
        "colab_type": "code",
        "id": "LBYzLdkkTnZu",
        "outputId": "36dd9639-7ff5-4a1a-e3eb-69cac0b45593",
        "colab": {
          "base_uri": "https://localhost:8080/",
          "height": 34
        }
      },
      "source": [
        "test_main = pd.read_csv ('test.csv.zip', compression='zip')\n",
        "test_main.shape"
      ],
      "execution_count": 0,
      "outputs": [
        {
          "output_type": "execute_result",
          "data": {
            "text/plain": [
              "(41697600, 4)"
            ]
          },
          "metadata": {
            "tags": []
          },
          "execution_count": 71
        }
      ]
    },
    {
      "cell_type": "code",
      "metadata": {
        "colab_type": "code",
        "id": "kUgB7LvLTnW4",
        "colab": {}
      },
      "source": [
        "buildings_test = pd.read_csv ('building_metadata.csv' )\n",
        "\n",
        "buildings_test = buildings_test.drop(columns=['year_built','floor_count'], axis=1)\n",
        "\n",
        "l=[\"Religious worship\",\"Utility\",\"Food sales and service\",\"Technology/science\",\"Services\",\"Retail\",\"Manufacturing/industrial\",\"Warehouse/storage\",\"Parking\",\"Healthcare\",\"Other\"]\n",
        "buildings_test.loc[buildings_test.primary_use.isin(l),'primary_use'] = 'others'\n",
        "\n",
        "buildings_test[\"primary_use\"] = buildings_test[\"primary_use\"].astype('category')\n",
        "buildings_test[\"primary_use\"] = buildings_test[\"primary_use\"].cat.codes"
      ],
      "execution_count": 0,
      "outputs": []
    },
    {
      "cell_type": "code",
      "metadata": {
        "colab_type": "code",
        "id": "lEtCpIJGTnUS",
        "colab": {}
      },
      "source": [
        "weather_test=pd.read_csv('weather_test.csv.zip', compression='zip')\n"
      ],
      "execution_count": 0,
      "outputs": []
    },
    {
      "cell_type": "code",
      "metadata": {
        "colab_type": "code",
        "id": "mCHujJZ0TnLA",
        "colab": {}
      },
      "source": [
        "weather_test=pd.read_csv('weather_test.csv.zip', compression='zip')\n",
        "weather_test.shape\n",
        "weather_test = weather_test.drop(columns=['precip_depth_1_hr','wind_direction','sea_level_pressure','cloud_coverage'], axis=1)\n",
        "\n",
        "\n",
        "weather_test['wind_speed'].fillna(weather_test['wind_speed'].mean(), inplace=True)\n",
        "weather_test['air_temperature'].fillna(weather_test['air_temperature'].mean(), inplace=True)\n",
        "weather_test['dew_temperature'].fillna(weather_test['dew_temperature'].mean(), inplace=True)\n",
        "\n"
      ],
      "execution_count": 0,
      "outputs": []
    },
    {
      "cell_type": "code",
      "metadata": {
        "colab_type": "code",
        "id": "hBOSvomrTReL",
        "colab": {}
      },
      "source": [
        "data_test =  pd.merge(test_main,buildings_test, on=['building_id'],sort=False)\n"
      ],
      "execution_count": 0,
      "outputs": []
    },
    {
      "cell_type": "code",
      "metadata": {
        "colab_type": "code",
        "id": "JM4E6Ls04ZSZ",
        "colab": {}
      },
      "source": [
        "data_test = data_test.merge(weather_test,left_on=['site_id','timestamp'],right_on=['site_id','timestamp'],how='left')"
      ],
      "execution_count": 0,
      "outputs": []
    },
    {
      "cell_type": "code",
      "metadata": {
        "colab_type": "code",
        "id": "0Bj7z7AS4ZI6",
        "colab": {}
      },
      "source": [
        "data_test[\"month\"] = data_test[\"timestamp\"].map(lambda row: row.split(\" \")[0].split(\"-\")[1])\n",
        "data_test[\"day\"] = data_test[\"timestamp\"].map(lambda row: row.split(\" \")[0].split(\"-\")[2])\n",
        "#data_test[\"time\"] = data_test[\"timestamp\"].map(lambda row: row.split(\" \")[1].split(\":\")[0])\n",
        "\n",
        "data_test['month'] = pd.to_numeric(data_test.month, errors='coerce')\n",
        "#data_test['time'] = pd.to_numeric(data_test.time, errors='coerce')\n",
        "data_test['day'] = pd.to_numeric(data_test.month, errors='coerce')"
      ],
      "execution_count": 0,
      "outputs": []
    },
    {
      "cell_type": "code",
      "metadata": {
        "colab_type": "code",
        "id": "VQgl4wya4ZCP",
        "outputId": "7e671de7-e37e-4372-de45-98047e10a3d8",
        "colab": {
          "base_uri": "https://localhost:8080/",
          "height": 204
        }
      },
      "source": [
        "data_test.head()"
      ],
      "execution_count": 0,
      "outputs": [
        {
          "output_type": "execute_result",
          "data": {
            "text/html": [
              "<div>\n",
              "<style scoped>\n",
              "    .dataframe tbody tr th:only-of-type {\n",
              "        vertical-align: middle;\n",
              "    }\n",
              "\n",
              "    .dataframe tbody tr th {\n",
              "        vertical-align: top;\n",
              "    }\n",
              "\n",
              "    .dataframe thead th {\n",
              "        text-align: right;\n",
              "    }\n",
              "</style>\n",
              "<table border=\"1\" class=\"dataframe\">\n",
              "  <thead>\n",
              "    <tr style=\"text-align: right;\">\n",
              "      <th></th>\n",
              "      <th>row_id</th>\n",
              "      <th>building_id</th>\n",
              "      <th>meter</th>\n",
              "      <th>timestamp</th>\n",
              "      <th>site_id</th>\n",
              "      <th>primary_use</th>\n",
              "      <th>square_feet</th>\n",
              "      <th>air_temperature</th>\n",
              "      <th>dew_temperature</th>\n",
              "      <th>wind_speed</th>\n",
              "      <th>month</th>\n",
              "      <th>day</th>\n",
              "    </tr>\n",
              "  </thead>\n",
              "  <tbody>\n",
              "    <tr>\n",
              "      <th>0</th>\n",
              "      <td>0</td>\n",
              "      <td>0</td>\n",
              "      <td>0</td>\n",
              "      <td>2017-01-01 00:00:00</td>\n",
              "      <td>0</td>\n",
              "      <td>0</td>\n",
              "      <td>7432</td>\n",
              "      <td>17.8</td>\n",
              "      <td>11.7</td>\n",
              "      <td>3.6</td>\n",
              "      <td>1</td>\n",
              "      <td>1</td>\n",
              "    </tr>\n",
              "    <tr>\n",
              "      <th>1</th>\n",
              "      <td>129</td>\n",
              "      <td>0</td>\n",
              "      <td>0</td>\n",
              "      <td>2017-01-01 01:00:00</td>\n",
              "      <td>0</td>\n",
              "      <td>0</td>\n",
              "      <td>7432</td>\n",
              "      <td>17.8</td>\n",
              "      <td>12.8</td>\n",
              "      <td>3.1</td>\n",
              "      <td>1</td>\n",
              "      <td>1</td>\n",
              "    </tr>\n",
              "    <tr>\n",
              "      <th>2</th>\n",
              "      <td>258</td>\n",
              "      <td>0</td>\n",
              "      <td>0</td>\n",
              "      <td>2017-01-01 02:00:00</td>\n",
              "      <td>0</td>\n",
              "      <td>0</td>\n",
              "      <td>7432</td>\n",
              "      <td>16.1</td>\n",
              "      <td>12.8</td>\n",
              "      <td>3.1</td>\n",
              "      <td>1</td>\n",
              "      <td>1</td>\n",
              "    </tr>\n",
              "    <tr>\n",
              "      <th>3</th>\n",
              "      <td>387</td>\n",
              "      <td>0</td>\n",
              "      <td>0</td>\n",
              "      <td>2017-01-01 03:00:00</td>\n",
              "      <td>0</td>\n",
              "      <td>0</td>\n",
              "      <td>7432</td>\n",
              "      <td>17.2</td>\n",
              "      <td>13.3</td>\n",
              "      <td>3.1</td>\n",
              "      <td>1</td>\n",
              "      <td>1</td>\n",
              "    </tr>\n",
              "    <tr>\n",
              "      <th>4</th>\n",
              "      <td>516</td>\n",
              "      <td>0</td>\n",
              "      <td>0</td>\n",
              "      <td>2017-01-01 04:00:00</td>\n",
              "      <td>0</td>\n",
              "      <td>0</td>\n",
              "      <td>7432</td>\n",
              "      <td>16.7</td>\n",
              "      <td>13.3</td>\n",
              "      <td>2.6</td>\n",
              "      <td>1</td>\n",
              "      <td>1</td>\n",
              "    </tr>\n",
              "  </tbody>\n",
              "</table>\n",
              "</div>"
            ],
            "text/plain": [
              "   row_id  building_id  meter  ... wind_speed  month  day\n",
              "0       0            0      0  ...        3.6      1    1\n",
              "1     129            0      0  ...        3.1      1    1\n",
              "2     258            0      0  ...        3.1      1    1\n",
              "3     387            0      0  ...        3.1      1    1\n",
              "4     516            0      0  ...        2.6      1    1\n",
              "\n",
              "[5 rows x 12 columns]"
            ]
          },
          "metadata": {
            "tags": []
          },
          "execution_count": 78
        }
      ]
    },
    {
      "cell_type": "code",
      "metadata": {
        "colab_type": "code",
        "id": "_i6zcVJ44sAm",
        "colab": {}
      },
      "source": [
        "data_test = data_test.drop(columns=[ 'row_id','timestamp','site_id'], axis=1)\n"
      ],
      "execution_count": 0,
      "outputs": []
    },
    {
      "cell_type": "code",
      "metadata": {
        "colab_type": "code",
        "id": "Zo25aTY24r-P",
        "outputId": "dec04f8c-820b-4183-8d61-75ae139ddee5",
        "colab": {
          "base_uri": "https://localhost:8080/",
          "height": 34
        }
      },
      "source": [
        "predicted=model.predict(data_test, batch_size=1024, verbose=1)"
      ],
      "execution_count": 0,
      "outputs": [
        {
          "output_type": "stream",
          "text": [
            "41697600/41697600 [==============================] - 108s 3us/step\n"
          ],
          "name": "stdout"
        }
      ]
    },
    {
      "cell_type": "code",
      "metadata": {
        "id": "Vnu4Hj0dy21k",
        "colab_type": "code",
        "outputId": "8d21c45b-dc30-44bb-89f7-cd1337d06eb5",
        "colab": {
          "base_uri": "https://localhost:8080/",
          "height": 204
        }
      },
      "source": [
        "data_test.head()"
      ],
      "execution_count": 0,
      "outputs": [
        {
          "output_type": "execute_result",
          "data": {
            "text/html": [
              "<div>\n",
              "<style scoped>\n",
              "    .dataframe tbody tr th:only-of-type {\n",
              "        vertical-align: middle;\n",
              "    }\n",
              "\n",
              "    .dataframe tbody tr th {\n",
              "        vertical-align: top;\n",
              "    }\n",
              "\n",
              "    .dataframe thead th {\n",
              "        text-align: right;\n",
              "    }\n",
              "</style>\n",
              "<table border=\"1\" class=\"dataframe\">\n",
              "  <thead>\n",
              "    <tr style=\"text-align: right;\">\n",
              "      <th></th>\n",
              "      <th>building_id</th>\n",
              "      <th>meter</th>\n",
              "      <th>primary_use</th>\n",
              "      <th>square_feet</th>\n",
              "      <th>air_temperature</th>\n",
              "      <th>dew_temperature</th>\n",
              "      <th>wind_speed</th>\n",
              "      <th>month</th>\n",
              "      <th>day</th>\n",
              "    </tr>\n",
              "  </thead>\n",
              "  <tbody>\n",
              "    <tr>\n",
              "      <th>0</th>\n",
              "      <td>0</td>\n",
              "      <td>0</td>\n",
              "      <td>0</td>\n",
              "      <td>7432</td>\n",
              "      <td>17.8</td>\n",
              "      <td>11.7</td>\n",
              "      <td>3.6</td>\n",
              "      <td>1</td>\n",
              "      <td>1</td>\n",
              "    </tr>\n",
              "    <tr>\n",
              "      <th>1</th>\n",
              "      <td>0</td>\n",
              "      <td>0</td>\n",
              "      <td>0</td>\n",
              "      <td>7432</td>\n",
              "      <td>17.8</td>\n",
              "      <td>12.8</td>\n",
              "      <td>3.1</td>\n",
              "      <td>1</td>\n",
              "      <td>1</td>\n",
              "    </tr>\n",
              "    <tr>\n",
              "      <th>2</th>\n",
              "      <td>0</td>\n",
              "      <td>0</td>\n",
              "      <td>0</td>\n",
              "      <td>7432</td>\n",
              "      <td>16.1</td>\n",
              "      <td>12.8</td>\n",
              "      <td>3.1</td>\n",
              "      <td>1</td>\n",
              "      <td>1</td>\n",
              "    </tr>\n",
              "    <tr>\n",
              "      <th>3</th>\n",
              "      <td>0</td>\n",
              "      <td>0</td>\n",
              "      <td>0</td>\n",
              "      <td>7432</td>\n",
              "      <td>17.2</td>\n",
              "      <td>13.3</td>\n",
              "      <td>3.1</td>\n",
              "      <td>1</td>\n",
              "      <td>1</td>\n",
              "    </tr>\n",
              "    <tr>\n",
              "      <th>4</th>\n",
              "      <td>0</td>\n",
              "      <td>0</td>\n",
              "      <td>0</td>\n",
              "      <td>7432</td>\n",
              "      <td>16.7</td>\n",
              "      <td>13.3</td>\n",
              "      <td>2.6</td>\n",
              "      <td>1</td>\n",
              "      <td>1</td>\n",
              "    </tr>\n",
              "  </tbody>\n",
              "</table>\n",
              "</div>"
            ],
            "text/plain": [
              "   building_id  meter  primary_use  ...  wind_speed  month  day\n",
              "0            0      0            0  ...         3.6      1    1\n",
              "1            0      0            0  ...         3.1      1    1\n",
              "2            0      0            0  ...         3.1      1    1\n",
              "3            0      0            0  ...         3.1      1    1\n",
              "4            0      0            0  ...         2.6      1    1\n",
              "\n",
              "[5 rows x 9 columns]"
            ]
          },
          "metadata": {
            "tags": []
          },
          "execution_count": 81
        }
      ]
    },
    {
      "cell_type": "markdown",
      "metadata": {
        "colab_type": "text",
        "id": "I9HsY0OU44Ee"
      },
      "source": [
        "## **Submission**"
      ]
    },
    {
      "cell_type": "code",
      "metadata": {
        "colab_type": "code",
        "id": "3JrXKhoL4r6j",
        "colab": {}
      },
      "source": [
        "#ids = data_test.row_id\n"
      ],
      "execution_count": 0,
      "outputs": []
    },
    {
      "cell_type": "code",
      "metadata": {
        "colab_type": "code",
        "id": "nA7k13S64r3f",
        "outputId": "e89a6db6-bcd9-4207-bf43-575033669f93",
        "colab": {
          "base_uri": "https://localhost:8080/",
          "height": 34
        }
      },
      "source": [
        "len(predicted)"
      ],
      "execution_count": 0,
      "outputs": [
        {
          "output_type": "execute_result",
          "data": {
            "text/plain": [
              "41697600"
            ]
          },
          "metadata": {
            "tags": []
          },
          "execution_count": 82
        }
      ]
    },
    {
      "cell_type": "code",
      "metadata": {
        "colab_type": "code",
        "id": "hkkXby1H5AZD",
        "outputId": "8eb0f1ac-97f7-44a6-8a20-54c76a37eff5",
        "colab": {
          "base_uri": "https://localhost:8080/",
          "height": 34
        }
      },
      "source": [
        "predicted[5599995]"
      ],
      "execution_count": 0,
      "outputs": [
        {
          "output_type": "execute_result",
          "data": {
            "text/plain": [
              "array([4.1496277], dtype=float32)"
            ]
          },
          "metadata": {
            "tags": []
          },
          "execution_count": 83
        }
      ]
    },
    {
      "cell_type": "code",
      "metadata": {
        "colab_type": "code",
        "id": "TBrnSxwx5AWs",
        "outputId": "78995fbc-f9b8-45fd-dd93-cbf2968a1244",
        "colab": {
          "base_uri": "https://localhost:8080/",
          "height": 51
        }
      },
      "source": [
        "submit = pd.read_csv('sample_submission.csv.zip', compression='zip')\n",
        "predicted = np.expm1(predicted)"
      ],
      "execution_count": 0,
      "outputs": [
        {
          "output_type": "stream",
          "text": [
            "/usr/local/lib/python3.6/dist-packages/ipykernel_launcher.py:2: RuntimeWarning: overflow encountered in expm1\n",
            "  \n"
          ],
          "name": "stderr"
        }
      ]
    },
    {
      "cell_type": "code",
      "metadata": {
        "id": "Svcn7y_LzFxx",
        "colab_type": "code",
        "outputId": "b9cc18e0-0176-4cb5-a4a7-75b71e395f28",
        "colab": {
          "base_uri": "https://localhost:8080/",
          "height": 85
        }
      },
      "source": [
        "!ls"
      ],
      "execution_count": 0,
      "outputs": [
        {
          "output_type": "stream",
          "text": [
            "building_metadata.csv  sample_data\t\t  weather_test.csv.zip\n",
            "clean_data.pickle      sample_submission.csv.zip  weather_train.csv.zip\n",
            "model1.h5\t       test.csv.zip\n",
            "my-submission.csv      train.csv.zip\n"
          ],
          "name": "stdout"
        }
      ]
    },
    {
      "cell_type": "code",
      "metadata": {
        "colab_type": "code",
        "id": "OnXIBJIX5K-U",
        "colab": {}
      },
      "source": [
        "submit['meter_reading'] = predicted"
      ],
      "execution_count": 0,
      "outputs": []
    },
    {
      "cell_type": "code",
      "metadata": {
        "colab_type": "code",
        "id": "Mf6jeuNd5AUK",
        "colab": {}
      },
      "source": [
        "export_csv = submit.to_csv('./my-submission.csv', index=False)\n"
      ],
      "execution_count": 0,
      "outputs": []
    },
    {
      "cell_type": "code",
      "metadata": {
        "colab_type": "code",
        "id": "VFuNZEle4_7j",
        "outputId": "31a200b2-ea8b-41e5-d56d-c399a80d0cab",
        "colab": {
          "base_uri": "https://localhost:8080/",
          "height": 204
        }
      },
      "source": [
        "submit.head()"
      ],
      "execution_count": 0,
      "outputs": [
        {
          "output_type": "execute_result",
          "data": {
            "text/html": [
              "<div>\n",
              "<style scoped>\n",
              "    .dataframe tbody tr th:only-of-type {\n",
              "        vertical-align: middle;\n",
              "    }\n",
              "\n",
              "    .dataframe tbody tr th {\n",
              "        vertical-align: top;\n",
              "    }\n",
              "\n",
              "    .dataframe thead th {\n",
              "        text-align: right;\n",
              "    }\n",
              "</style>\n",
              "<table border=\"1\" class=\"dataframe\">\n",
              "  <thead>\n",
              "    <tr style=\"text-align: right;\">\n",
              "      <th></th>\n",
              "      <th>row_id</th>\n",
              "      <th>meter_reading</th>\n",
              "    </tr>\n",
              "  </thead>\n",
              "  <tbody>\n",
              "    <tr>\n",
              "      <th>0</th>\n",
              "      <td>0</td>\n",
              "      <td>62.410389</td>\n",
              "    </tr>\n",
              "    <tr>\n",
              "      <th>1</th>\n",
              "      <td>1</td>\n",
              "      <td>62.410389</td>\n",
              "    </tr>\n",
              "    <tr>\n",
              "      <th>2</th>\n",
              "      <td>2</td>\n",
              "      <td>62.410389</td>\n",
              "    </tr>\n",
              "    <tr>\n",
              "      <th>3</th>\n",
              "      <td>3</td>\n",
              "      <td>62.410389</td>\n",
              "    </tr>\n",
              "    <tr>\n",
              "      <th>4</th>\n",
              "      <td>4</td>\n",
              "      <td>62.410389</td>\n",
              "    </tr>\n",
              "  </tbody>\n",
              "</table>\n",
              "</div>"
            ],
            "text/plain": [
              "   row_id  meter_reading\n",
              "0       0      62.410389\n",
              "1       1      62.410389\n",
              "2       2      62.410389\n",
              "3       3      62.410389\n",
              "4       4      62.410389"
            ]
          },
          "metadata": {
            "tags": []
          },
          "execution_count": 88
        }
      ]
    },
    {
      "cell_type": "code",
      "metadata": {
        "colab_type": "code",
        "id": "eQtaSXC54_0Q",
        "outputId": "46bb71e0-39bd-4d63-d454-d24556ae5c8a",
        "colab": {
          "base_uri": "https://localhost:8080/",
          "height": 68
        }
      },
      "source": [
        "!kaggle competitions submit ashrae-energy-prediction -f my-submission.csv -m 'Final submission'"
      ],
      "execution_count": 0,
      "outputs": [
        {
          "output_type": "stream",
          "text": [
            "Warning: Looks like you're using an outdated API Version, please consider updating (server 1.5.6 / client 1.5.4)\n",
            "100% 696M/696M [00:13<00:00, 55.8MB/s]\n",
            "Successfully submitted to ASHRAE - Great Energy Predictor III"
          ],
          "name": "stdout"
        }
      ]
    },
    {
      "cell_type": "code",
      "metadata": {
        "colab_type": "code",
        "id": "OeHDNA6Z4_w_",
        "colab": {}
      },
      "source": [
        ""
      ],
      "execution_count": 0,
      "outputs": []
    }
  ]
}